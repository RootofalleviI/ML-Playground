{
 "cells": [
  {
   "cell_type": "markdown",
   "metadata": {},
   "source": [
    "## Keras - Text Classification"
   ]
  },
  {
   "cell_type": "markdown",
   "metadata": {},
   "source": [
    "#### IMDB Dataset\n",
    "\n",
    "**Goal**: classify movie reviews as *positive* or *negative* using the review comments. \n",
    "\n",
    "The [IMDB dataset](https://www.tensorflow.org/api_docs/python/tf/keras/datasets/imdb) contains the text of 50,000 movie reviews from the Internet Movie Database. These are split into 25,000 reviews for training and 25,000 reviews for testing. There is an equal number of positive and negative reviews."
   ]
  },
  {
   "cell_type": "code",
   "execution_count": 1,
   "metadata": {},
   "outputs": [
    {
     "name": "stdout",
     "output_type": "stream",
     "text": [
      "1.11.0\n"
     ]
    }
   ],
   "source": [
    "import tensorflow as tf\n",
    "from tensorflow import keras\n",
    "\n",
    "import numpy as np\n",
    "\n",
    "print(tf.__version__)"
   ]
  },
  {
   "cell_type": "code",
   "execution_count": 2,
   "metadata": {},
   "outputs": [
    {
     "name": "stdout",
     "output_type": "stream",
     "text": [
      "Downloading data from https://storage.googleapis.com/tensorflow/tf-keras-datasets/imdb.npz\n",
      "17465344/17464789 [==============================] - 3s 0us/step\n"
     ]
    }
   ],
   "source": [
    "imdb = keras.datasets.imdb\n",
    "\n",
    "(train_data, train_labels), (test_data, test_labels) = imdb.load_data(num_words=10000)"
   ]
  },
  {
   "cell_type": "code",
   "execution_count": 3,
   "metadata": {},
   "outputs": [
    {
     "name": "stdout",
     "output_type": "stream",
     "text": [
      "[1, 14, 22, 16, 43, 530, 973, 1622, 1385, 65, 458, 4468, 66, 3941, 4, 173, 36, 256, 5, 25, 100, 43, 838, 112, 50, 670, 2, 9, 35, 480, 284, 5, 150, 4, 172, 112, 167, 2, 336, 385, 39, 4, 172, 4536, 1111, 17, 546, 38, 13, 447, 4, 192, 50, 16, 6, 147, 2025, 19, 14, 22, 4, 1920, 4613, 469, 4, 22, 71, 87, 12, 16, 43, 530, 38, 76, 15, 13, 1247, 4, 22, 17, 515, 17, 12, 16, 626, 18, 2, 5, 62, 386, 12, 8, 316, 8, 106, 5, 4, 2223, 5244, 16, 480, 66, 3785, 33, 4, 130, 12, 16, 38, 619, 5, 25, 124, 51, 36, 135, 48, 25, 1415, 33, 6, 22, 12, 215, 28, 77, 52, 5, 14, 407, 16, 82, 2, 8, 4, 107, 117, 5952, 15, 256, 4, 2, 7, 3766, 5, 723, 36, 71, 43, 530, 476, 26, 400, 317, 46, 7, 4, 2, 1029, 13, 104, 88, 4, 381, 15, 297, 98, 32, 2071, 56, 26, 141, 6, 194, 7486, 18, 4, 226, 22, 21, 134, 476, 26, 480, 5, 144, 30, 5535, 18, 51, 36, 28, 224, 92, 25, 104, 4, 226, 65, 16, 38, 1334, 88, 12, 16, 283, 5, 16, 4472, 113, 103, 32, 15, 16, 5345, 19, 178, 32]\n"
     ]
    }
   ],
   "source": [
    "# The text of reviews have been converted into integers, \n",
    "# where each integer represents a specific word in a dictionary.\n",
    "print(train_data[0])"
   ]
  },
  {
   "cell_type": "code",
   "execution_count": 5,
   "metadata": {},
   "outputs": [
    {
     "data": {
      "text/plain": [
       "(218, 189)"
      ]
     },
     "execution_count": 5,
     "metadata": {},
     "output_type": "execute_result"
    }
   ],
   "source": [
    "# Movie reviews may have different lengths\n",
    "len(train_data[0]), len(train_data[1])"
   ]
  },
  {
   "cell_type": "markdown",
   "metadata": {},
   "source": [
    "#### Preprocessing\n",
    "\n",
    "As human reader, it will be better if we first convert integers back to text."
   ]
  },
  {
   "cell_type": "code",
   "execution_count": 10,
   "metadata": {},
   "outputs": [],
   "source": [
    "word_index = imdb.get_word_index()\n",
    "\n",
    "# The first indices are reserved\n",
    "word_index = {k:(v+3) for k,v in word_index.items()} \n",
    "word_index[\"<PAD>\"] = 0\n",
    "word_index[\"<START>\"] = 1\n",
    "word_index[\"<UNK>\"] = 2  # unknown\n",
    "word_index[\"<UNUSED>\"] = 3\n",
    "\n",
    "reverse_word_index = dict([(value, key) for (key, value) in word_index.items()])\n",
    "\n",
    "def decode_review(text):\n",
    "    return ' '.join([reverse_word_index.get(i, '?') for i in text])"
   ]
  },
  {
   "cell_type": "code",
   "execution_count": 11,
   "metadata": {},
   "outputs": [
    {
     "data": {
      "text/plain": [
       "\"<START> this film was just brilliant casting location scenery story direction everyone's really suited the part they played and you could just imagine being there robert <UNK> is an amazing actor and now the same being director <UNK> father came from the same scottish island as myself so i loved the fact there was a real connection with this film the witty remarks throughout the film were great it was just brilliant so much that i bought the film as soon as it was released for <UNK> and would recommend it to everyone to watch and the fly fishing was amazing really cried at the end it was so sad and you know what they say if you cry at a film it must have been good and this definitely was also <UNK> to the two little boy's that played the <UNK> of norman and paul they were just brilliant children are often left out of the <UNK> list i think because the stars that play them all grown up are such a big profile for the whole film but these children are amazing and should be praised for what they have done don't you think the whole story was so lovely because it was true and was someone's life after all that was shared with us all\""
      ]
     },
     "execution_count": 11,
     "metadata": {},
     "output_type": "execute_result"
    }
   ],
   "source": [
    "decode_review(train_data[0]b)"
   ]
  },
  {
   "cell_type": "markdown",
   "metadata": {},
   "source": [
    "We pad the arrays to make them the same length, then create an integer tensor of shape `max_length * num_reviews`. \n",
    "\n",
    "`keras.preprocessing.sequence.pad_sequences`\n",
    "- Pad sequences to the same length.\n",
    "- `value`: the value being added.\n",
    "- `padding`: `pre` or `post`.\n",
    "- `maxlen`: the maximum length after this padding preprocess."
   ]
  },
  {
   "cell_type": "code",
   "execution_count": 16,
   "metadata": {},
   "outputs": [],
   "source": [
    "train_data = keras.preprocessing.sequence.pad_sequences(train_data,\n",
    "                                                        value=word_index[\"<PAD>\"],\n",
    "                                                        padding='post',\n",
    "                                                        maxlen=256)\n",
    "\n",
    "test_data = keras.preprocessing.sequence.pad_sequences(test_data,\n",
    "                                                       value=word_index[\"<PAD>\"],\n",
    "                                                       padding='post',\n",
    "                                                       maxlen=256)"
   ]
  },
  {
   "cell_type": "code",
   "execution_count": 19,
   "metadata": {},
   "outputs": [],
   "source": [
    "keras.layers.GlobalAveragePooling1D?"
   ]
  },
  {
   "cell_type": "markdown",
   "metadata": {},
   "source": [
    "#### Build the model\n",
    "\n",
    "`keras.layers.Embedding(input_dim, output_dim)`\n",
    "- Turns positive integers (indexes) into dense vectors of fixed size.\n",
    "- This layer can only be used as the first layer in a model.\n",
    "\n",
    "`keras.layers.GlobalAveragePooling1D()`\n",
    "- It is common to periodically insert a Pooling layer in-between successive Convolutional layers in a ConvNet architecture. \n",
    "- Its function is to progressively reduce the spatial size of the representation to reduce the amount of parameters and computation in the network, and hence to also control overfitting. \n",
    "- The Pooling Layer operates independently on every depth slice of the input and resizes it spatially, using the MAX operation. "
   ]
  },
  {
   "cell_type": "code",
   "execution_count": 20,
   "metadata": {},
   "outputs": [
    {
     "name": "stdout",
     "output_type": "stream",
     "text": [
      "_________________________________________________________________\n",
      "Layer (type)                 Output Shape              Param #   \n",
      "=================================================================\n",
      "embedding_1 (Embedding)      (None, None, 16)          160000    \n",
      "_________________________________________________________________\n",
      "global_average_pooling1d_1 ( (None, 16)                0         \n",
      "_________________________________________________________________\n",
      "dense_2 (Dense)              (None, 16)                272       \n",
      "_________________________________________________________________\n",
      "dense_3 (Dense)              (None, 1)                 17        \n",
      "=================================================================\n",
      "Total params: 160,289\n",
      "Trainable params: 160,289\n",
      "Non-trainable params: 0\n",
      "_________________________________________________________________\n"
     ]
    }
   ],
   "source": [
    "vocab_size = 10000\n",
    "\n",
    "model = keras.Sequential()\n",
    "\n",
    "# The layer takes the integer-coded vocabulary and looks up the embedding vector for each word-index. \n",
    "# These vectors are learned as the model trains. Resulting dimension: `(batch, sequence, embedding)`.\n",
    "model.add(keras.layers.Embedding(vocab_size, 16))\n",
    "\n",
    "# This layer returns a fixed-length output vector for each example by averaging over the sequence dimension.\n",
    "# This allows the model to handle input of variable length in a simple way.\n",
    "model.add(keras.layers.GlobalAveragePooling1D())\n",
    "model.add(keras.layers.Dense(16, activation=tf.nn.relu))\n",
    "\n",
    "# Sigmoid function for binary classification\n",
    "model.add(keras.layers.Dense(1, activation=tf.nn.sigmoid))\n",
    "\n",
    "model.summary()"
   ]
  },
  {
   "cell_type": "markdown",
   "metadata": {},
   "source": [
    "#### Compile the model\n",
    "\n",
    "In general, `binary_crossentropy` is better for dealing with probabilities -- it measures the \"distance\" between probability distrubtions, or in our case, between the ground-truth distribution and the predictions."
   ]
  },
  {
   "cell_type": "code",
   "execution_count": 21,
   "metadata": {},
   "outputs": [],
   "source": [
    "model.compile(optimizer=tf.train.AdamOptimizer(),\n",
    "              loss='binary_crossentropy',\n",
    "              metrics=['accuracy'])"
   ]
  },
  {
   "cell_type": "code",
   "execution_count": 22,
   "metadata": {},
   "outputs": [],
   "source": [
    "# Cross validation\n",
    "\n",
    "x_val = train_data[:10000]\n",
    "partial_x_train = train_data[10000:]\n",
    "\n",
    "y_val = train_labels[:10000]\n",
    "partial_y_train = train_labels[10000:]"
   ]
  },
  {
   "cell_type": "markdown",
   "metadata": {},
   "source": [
    "#### Train the model"
   ]
  },
  {
   "cell_type": "code",
   "execution_count": 23,
   "metadata": {},
   "outputs": [
    {
     "name": "stdout",
     "output_type": "stream",
     "text": [
      "Train on 15000 samples, validate on 10000 samples\n",
      "Epoch 1/40\n",
      "15000/15000 [==============================] - 1s 77us/step - loss: 0.6918 - acc: 0.5714 - val_loss: 0.6896 - val_acc: 0.6572\n",
      "Epoch 2/40\n",
      "15000/15000 [==============================] - 1s 57us/step - loss: 0.6852 - acc: 0.7403 - val_loss: 0.6806 - val_acc: 0.7370\n",
      "Epoch 3/40\n",
      "15000/15000 [==============================] - 1s 56us/step - loss: 0.6722 - acc: 0.7679 - val_loss: 0.6645 - val_acc: 0.7532\n",
      "Epoch 4/40\n",
      "15000/15000 [==============================] - 1s 58us/step - loss: 0.6496 - acc: 0.7657 - val_loss: 0.6394 - val_acc: 0.7767\n",
      "Epoch 5/40\n",
      "15000/15000 [==============================] - 1s 67us/step - loss: 0.6168 - acc: 0.7986 - val_loss: 0.6044 - val_acc: 0.7877\n",
      "Epoch 6/40\n",
      "15000/15000 [==============================] - 1s 55us/step - loss: 0.5756 - acc: 0.8140 - val_loss: 0.5646 - val_acc: 0.7990\n",
      "Epoch 7/40\n",
      "15000/15000 [==============================] - 1s 59us/step - loss: 0.5298 - acc: 0.8331 - val_loss: 0.5225 - val_acc: 0.8204\n",
      "Epoch 8/40\n",
      "15000/15000 [==============================] - 1s 55us/step - loss: 0.4838 - acc: 0.8498 - val_loss: 0.4822 - val_acc: 0.8341\n",
      "Epoch 9/40\n",
      "15000/15000 [==============================] - 1s 54us/step - loss: 0.4413 - acc: 0.8615 - val_loss: 0.4464 - val_acc: 0.8450\n",
      "Epoch 10/40\n",
      "15000/15000 [==============================] - 1s 55us/step - loss: 0.4030 - acc: 0.8740 - val_loss: 0.4159 - val_acc: 0.8528\n",
      "Epoch 11/40\n",
      "15000/15000 [==============================] - 1s 52us/step - loss: 0.3706 - acc: 0.8831 - val_loss: 0.3928 - val_acc: 0.8562\n",
      "Epoch 12/40\n",
      "15000/15000 [==============================] - 1s 51us/step - loss: 0.3433 - acc: 0.8891 - val_loss: 0.3703 - val_acc: 0.8639\n",
      "Epoch 13/40\n",
      "15000/15000 [==============================] - 1s 50us/step - loss: 0.3187 - acc: 0.8954 - val_loss: 0.3542 - val_acc: 0.8682\n",
      "Epoch 14/40\n",
      "15000/15000 [==============================] - 1s 51us/step - loss: 0.2983 - acc: 0.9010 - val_loss: 0.3400 - val_acc: 0.8727\n",
      "Epoch 15/40\n",
      "15000/15000 [==============================] - 1s 52us/step - loss: 0.2805 - acc: 0.9055 - val_loss: 0.3288 - val_acc: 0.8749\n",
      "Epoch 16/40\n",
      "15000/15000 [==============================] - 1s 54us/step - loss: 0.2653 - acc: 0.9092 - val_loss: 0.3198 - val_acc: 0.8769\n",
      "Epoch 17/40\n",
      "15000/15000 [==============================] - 1s 72us/step - loss: 0.2507 - acc: 0.9152 - val_loss: 0.3121 - val_acc: 0.8771\n",
      "Epoch 18/40\n",
      "15000/15000 [==============================] - 1s 64us/step - loss: 0.2380 - acc: 0.9200 - val_loss: 0.3057 - val_acc: 0.8801\n",
      "Epoch 19/40\n",
      "15000/15000 [==============================] - 1s 58us/step - loss: 0.2263 - acc: 0.9231 - val_loss: 0.3007 - val_acc: 0.8807\n",
      "Epoch 20/40\n",
      "15000/15000 [==============================] - 1s 58us/step - loss: 0.2159 - acc: 0.9261 - val_loss: 0.2963 - val_acc: 0.8819\n",
      "Epoch 21/40\n",
      "15000/15000 [==============================] - 1s 56us/step - loss: 0.2059 - acc: 0.9299 - val_loss: 0.2927 - val_acc: 0.8822\n",
      "Epoch 22/40\n",
      "15000/15000 [==============================] - 1s 59us/step - loss: 0.1968 - acc: 0.9348 - val_loss: 0.2904 - val_acc: 0.8824\n",
      "Epoch 23/40\n",
      "15000/15000 [==============================] - 1s 71us/step - loss: 0.1884 - acc: 0.9365 - val_loss: 0.2884 - val_acc: 0.8834\n",
      "Epoch 24/40\n",
      "15000/15000 [==============================] - 1s 57us/step - loss: 0.1801 - acc: 0.9420 - val_loss: 0.2862 - val_acc: 0.8853\n",
      "Epoch 25/40\n",
      "15000/15000 [==============================] - 1s 68us/step - loss: 0.1728 - acc: 0.9451 - val_loss: 0.2851 - val_acc: 0.8848\n",
      "Epoch 26/40\n",
      "15000/15000 [==============================] - 1s 57us/step - loss: 0.1655 - acc: 0.9474 - val_loss: 0.2844 - val_acc: 0.8852\n",
      "Epoch 27/40\n",
      "15000/15000 [==============================] - 1s 60us/step - loss: 0.1594 - acc: 0.9504 - val_loss: 0.2847 - val_acc: 0.8839\n",
      "Epoch 28/40\n",
      "15000/15000 [==============================] - 1s 55us/step - loss: 0.1530 - acc: 0.9530 - val_loss: 0.2838 - val_acc: 0.8864\n",
      "Epoch 29/40\n",
      "15000/15000 [==============================] - 1s 56us/step - loss: 0.1471 - acc: 0.9540 - val_loss: 0.2842 - val_acc: 0.8868\n",
      "Epoch 30/40\n",
      "15000/15000 [==============================] - 1s 55us/step - loss: 0.1420 - acc: 0.9571 - val_loss: 0.2853 - val_acc: 0.8866\n",
      "Epoch 31/40\n",
      "15000/15000 [==============================] - 1s 54us/step - loss: 0.1359 - acc: 0.9601 - val_loss: 0.2862 - val_acc: 0.8865\n",
      "Epoch 32/40\n",
      "15000/15000 [==============================] - 1s 52us/step - loss: 0.1312 - acc: 0.9617 - val_loss: 0.2877 - val_acc: 0.8857\n",
      "Epoch 33/40\n",
      "15000/15000 [==============================] - 1s 53us/step - loss: 0.1258 - acc: 0.9644 - val_loss: 0.2891 - val_acc: 0.8856\n",
      "Epoch 34/40\n",
      "15000/15000 [==============================] - 1s 55us/step - loss: 0.1214 - acc: 0.9663 - val_loss: 0.2913 - val_acc: 0.8845\n",
      "Epoch 35/40\n",
      "15000/15000 [==============================] - 1s 54us/step - loss: 0.1174 - acc: 0.9667 - val_loss: 0.2926 - val_acc: 0.8853\n",
      "Epoch 36/40\n",
      "15000/15000 [==============================] - 1s 53us/step - loss: 0.1125 - acc: 0.9697 - val_loss: 0.2952 - val_acc: 0.8832\n",
      "Epoch 37/40\n",
      "15000/15000 [==============================] - 1s 54us/step - loss: 0.1087 - acc: 0.9706 - val_loss: 0.2977 - val_acc: 0.8839\n",
      "Epoch 38/40\n",
      "15000/15000 [==============================] - 1s 56us/step - loss: 0.1052 - acc: 0.9715 - val_loss: 0.3003 - val_acc: 0.8839\n",
      "Epoch 39/40\n",
      "15000/15000 [==============================] - 1s 54us/step - loss: 0.1010 - acc: 0.9732 - val_loss: 0.3021 - val_acc: 0.8839\n",
      "Epoch 40/40\n",
      "15000/15000 [==============================] - 1s 54us/step - loss: 0.0973 - acc: 0.9751 - val_loss: 0.3052 - val_acc: 0.8843\n"
     ]
    }
   ],
   "source": [
    "history = model.fit(partial_x_train,\n",
    "                    partial_y_train,\n",
    "                    epochs=40, # 40 iterations\n",
    "                    batch_size=512, # mini-batches of 512 samples\n",
    "                    validation_data=(x_val, y_val), # used to evaluate the loss or any model metrics at the end of each epoch\n",
    "                    verbose=1)"
   ]
  },
  {
   "cell_type": "markdown",
   "metadata": {},
   "source": [
    "#### A graph of accuracy and loss over time"
   ]
  },
  {
   "cell_type": "code",
   "execution_count": 27,
   "metadata": {},
   "outputs": [
    {
     "data": {
      "image/png": "[encoded data removed]",
      "text/plain": [
       "<Figure size 432x288 with 1 Axes>"
      ]
     },
     "metadata": {},
     "output_type": "display_data"
    }
   ],
   "source": [
    "import matplotlib.pyplot as plt\n",
    "\n",
    "acc = history.history['acc']\n",
    "val_acc = history.history['val_acc']\n",
    "loss = history.history['loss']\n",
    "val_loss = history.history['val_loss']\n",
    "\n",
    "epochs = range(1, len(acc) + 1)\n",
    "\n",
    "plt.plot(epochs, loss, 'bo', label='Training loss') # bo => blue dot\n",
    "plt.plot(epochs, val_loss, 'b', label='Validation loss') # b=> blue line\n",
    "plt.title('Training and validation loss')\n",
    "plt.xlabel('Epochs')\n",
    "plt.ylabel('Loss')\n",
    "plt.legend()\n",
    "\n",
    "plt.show()"
   ]
  },
  {
   "cell_type": "code",
   "execution_count": 29,
   "metadata": {},
   "outputs": [
    {
     "data": {
      "image/png": "[encoded data removed]",
      "text/plain": [
       "<Figure size 432x288 with 1 Axes>"
      ]
     },
     "metadata": {},
     "output_type": "display_data"
    }
   ],
   "source": [
    "acc_values = history.history['acc']\n",
    "val_acc_values = history.history['val_acc']\n",
    "\n",
    "plt.plot(epochs, acc, 'bo', label='Training acc')\n",
    "plt.plot(epochs, val_acc, 'b', label='Validation acc')\n",
    "plt.title('Training and validation accuracy')\n",
    "plt.xlabel('Epochs')\n",
    "plt.ylabel('Accuracy')\n",
    "plt.legend()\n",
    "\n",
    "plt.show()"
   ]
  },
  {
   "cell_type": "markdown",
   "metadata": {},
   "source": [
    "From the graphs, we see that the validation loss and accuracy start to move in the undesired direction, which indicates possible overfitting. We could prevent overfitting by stopping training after about 20 epochs."
   ]
  }
 ],
 "metadata": {
  "kernelspec": {
   "display_name": "Python 3",
   "language": "python",
   "name": "python3"
  },
  "language_info": {
   "codemirror_mode": {
    "name": "ipython",
    "version": 3
   },
   "file_extension": ".py",
   "mimetype": "text/x-python",
   "name": "python",
   "nbconvert_exporter": "python",
   "pygments_lexer": "ipython3",
   "version": "3.6.6"
  }
 },
 "nbformat": 4,
 "nbformat_minor": 2
}

{
 "cells": [
  {
   "cell_type": "markdown",
   "metadata": {},
   "source": [
    "# Linear Regression and Gradient Descent in Python\n",
    "---"
   ]
  },
  {
   "cell_type": "markdown",
   "metadata": {},
   "source": [
    "### Data\n",
    "\n",
    "$$\n",
    "\\overbrace{\n",
    "X = \\begin{bmatrix}\n",
    "1 & x_1^{(1)}\\\\\n",
    "1 & x_1^{(2)}\\\\\n",
    "\\vdots\\\\\n",
    "1 & x_1^{(100)}\\end{bmatrix} \\in \\mathbb{R}^{(100, 2)}\n",
    "}^{\\large\\text{Input}}\n",
    "\\qquad\n",
    "\\overbrace{\n",
    "\\theta = \\begin{bmatrix}\\theta_0 \\\\ \\theta_1\\end{bmatrix}\n",
    "}^{\\large\\text{Weight}}\n",
    "\\qquad\n",
    "\\overbrace{\n",
    "y = \\begin{bmatrix}\n",
    "y^{(1)}\\\\\n",
    "y^{(2)}\\\\\n",
    "\\vdots\\\\\n",
    "y^{(100)}\\\\\n",
    "\\end{bmatrix} \\in \\mathbb{R}^{100}\n",
    "}^{\\large\\text{Output}}\n",
    "$$"
   ]
  },
  {
   "cell_type": "markdown",
   "metadata": {},
   "source": [
    "**Notation**\n",
    "- Upper script $1 \\leq (i) \\leq 100$ denotes the index of sample in our 100 sample space.\n",
    "- Lower script $i \\in \\{0, 1\\}$ denotes the $i$th element in the a row of input matrix $X$.\n",
    "- Each corresponding row of $X$ and $y$ forms a relationship $y^{(i)} \\approx \\theta_0x_0^{(i)}+\\theta_1x_1^{(i)}$, where \n",
    "    - $x_0^{(i)}=1$ for all $i$\n",
    "    - $\\theta_0$ can thus been seen as the bias term in the linear equation $y = mx + b$."
   ]
  },
  {
   "cell_type": "markdown",
   "metadata": {},
   "source": [
    "**Goal**\n",
    "- Given these 100 $(x, y)$ pairs, we want to find the best fitting line to represent the relationship between $x$ and $y$.\n",
    "- Learning algorithm to use: **Linear Regression**.\n",
    "- Optimization algorithm to use: **Gradient Descent**."
   ]
  },
  {
   "cell_type": "markdown",
   "metadata": {},
   "source": [
    "### Hypothesis\n",
    "\n",
    "$$\n",
    "h_\\theta = \\theta_0x_0 + \\theta_1x_1 \n",
    "\\implies \n",
    "\\begin{cases}\n",
    "h_\\theta(x^{(1)}) &= \\theta_0x_0 ^{(1)} + \\theta_1x^{(1)} \\\\\n",
    "h_\\theta(x^{(2)}) &= \\theta_0x_0^{(2)}  + \\theta_1x^{(2)} \\\\\n",
    "&\\vdots \\\\\n",
    "h_\\theta(x^{(100)}) &= \\theta_0x_0^{(100)}  + \\theta_1x^{(100)}\n",
    "\\end{cases}\n",
    "\\implies\n",
    "h_\\theta = \n",
    "\\begin{bmatrix}\n",
    "1 & x_1^{(1)}\\\\\n",
    "1 & x_1^{(2)}\\\\\n",
    "\\vdots\\\\\n",
    "1 & x_1^{(100)}\\end{bmatrix}\n",
    "\\begin{bmatrix}\n",
    "\\theta_0 \\\\ \\theta_1\n",
    "\\end{bmatrix}\n",
    "= X\\theta\n",
    "$$"
   ]
  },
  {
   "cell_type": "markdown",
   "metadata": {},
   "source": [
    "*Vectorized*\n",
    "$$\n",
    "h_\\theta = X\\theta\n",
    "$$\n",
    "\n",
    "*Code:*\n",
    "\n",
    "```Python\n",
    "# Given X, y, theta\n",
    "h = np.dot(X, theta)\n",
    "```"
   ]
  },
  {
   "cell_type": "markdown",
   "metadata": {},
   "source": [
    "### Cost Function\n",
    "\n",
    "$$\n",
    "J(\\theta_0, \\theta_1) = \\frac{1}{2m}\\sum_{i=1}^m(h_\\theta(x_i) - y_i)^2\n",
    "$$\n",
    "\n",
    "- $m$: number of samples, in this case, 100.\n",
    "- $h_\\theta(x_i) - y_i$: error of one sample.\n",
    "- $\\sum_{i=1}^m(h_\\theta(x_i) - y_i)^2$: sum of squared error.\n",
    "- Divide the above value by $2m$ to get the **mean squared error** (2 in the denominator for cleaner math)."
   ]
  },
  {
   "cell_type": "markdown",
   "metadata": {},
   "source": [
    "*Vectorized:*\n",
    "$$\n",
    "J(\\theta) = \\frac{1}{2m}(X\\theta-y)^T(X\\theta-y) = \\frac{1}{2m}(h_\\theta-y)^T(h_\\theta-y)\n",
    "$$\n",
    "\n",
    "*Code:*\n",
    "```python\n",
    "# Given X, y, theta\n",
    "h = np.dot(X, theta)\n",
    "loss = h - y                # vector subtraction as h, y are both ndarrays\n",
    "sse = np.sum(loss ** 2)     # sum of squared error\n",
    "cost = sse / (2 * m)        # get mean squared error\n",
    "```"
   ]
  },
  {
   "cell_type": "markdown",
   "metadata": {},
   "source": [
    "### Partial Derivatives\n",
    "\n",
    "$$\n",
    "\\begin{align*}\n",
    "\\nabla J = \\begin{bmatrix}\\frac{\\partial J}{\\partial\\theta_0}\\\\\\frac{\\partial J}{\\partial\\theta_1}\\end{bmatrix}\\\\\n",
    "\\frac{\\partial}{\\partial\\theta_0}J(\\theta_0, \\theta_1) &= \\frac{1}{m}\\sum_{i=1}^m(h_\\theta(x^{(i)})-y^{(i)})\n",
    "\\\\\n",
    "\\frac{\\partial}{\\partial\\theta_1}J(\\theta_0, \\theta_1) &= \\frac{1}{m}\\sum_{i=1}^m(h_\\theta(x^{(i)})-y^{(i)}) \\, x^{(i)}\n",
    "\\end{align*}\n",
    "$$\n",
    "\n",
    "- The gradient vector $\\nabla J$ tells you which direction you can move to *increase* the value of function most rapidly."
   ]
  },
  {
   "cell_type": "markdown",
   "metadata": {},
   "source": [
    "*Vectorized:*\n",
    "$$\n",
    "\\begin{align*}\n",
    "\\nabla J(\\theta) = \\frac{1}{m}X^T(X\\theta-y) = \\frac{1}{m}X^T(h_\\theta-y)\n",
    "\\end{align*}\n",
    "$$\n",
    "\n",
    "*Code:*\n",
    "```python\n",
    "# Given X, y, theta\n",
    "h = np.dot(X, theta)\n",
    "loss = h - y               \n",
    "sse = np.sum(loss ** 2)    \n",
    "cost = sse / (2 * m)   \n",
    "grdient = np.dot(x.transpose(), loss) / m\n",
    "```"
   ]
  },
  {
   "cell_type": "markdown",
   "metadata": {},
   "source": [
    "### Gradient Descent\n",
    "\n",
    "$$\n",
    "\\begin{align*}\n",
    "\\theta_0 &:= \\theta_0 - \\alpha \\frac{1}{m}\\sum_{i=1}^m(h_\\theta(x_i)-y_i)\n",
    "\\\\\n",
    "\\theta_1 &:= \\theta_1 - \\alpha \\frac{1}{m}\\sum_{i=1}^m(h_\\theta(x_i)-y_i) \\cdot x_i\n",
    "\\end{align*}\n",
    "$$\n",
    "\n",
    "- $\\alpha$: **learning rate** - how much to descend by, or how fast  to converge.\n",
    "- By above, to find a local minimum of a $J$ using **gradient descent**, one takes steps propotional to the *negative* of $J$ at the current point."
   ]
  },
  {
   "cell_type": "markdown",
   "metadata": {},
   "source": [
    "*Vectorized:*\n",
    "$$\n",
    "\\theta = \\theta - \\frac{\\alpha}{m}X^T(X\\theta-y) = \\theta - \\frac{\\alpha}{m}X^T(h_\\theta-y) = \\theta - \\alpha \\nabla J(\\theta)\n",
    "$$\n",
    "\n",
    "*Code:*\n",
    "```python\n",
    "# Given X, y, theta\n",
    "h = np.dot(X, theta)\n",
    "loss = h - y               \n",
    "sse = np.sum(loss ** 2)    \n",
    "cost = sse / (2 * m)    \n",
    "grdient = np.dot(x.transpose(), loss) / m   \n",
    "theta = theta - alpha * gradient\n",
    "# Repeat\n",
    "```"
   ]
  },
  {
   "cell_type": "markdown",
   "metadata": {},
   "source": [
    "---\n",
    "### Batch Gradient Descent"
   ]
  },
  {
   "cell_type": "markdown",
   "metadata": {},
   "source": [
    "**Code**"
   ]
  },
  {
   "cell_type": "code",
   "execution_count": 90,
   "metadata": {},
   "outputs": [],
   "source": [
    "import numpy as np\n",
    "import random\n",
    "\n",
    "def gradientDescent(X, y, theta, alpha, n_iter, history):\n",
    "    \"\"\"Performs gradient descent to learn theta.\n",
    "    Update the model based on all samples.\n",
    "    \n",
    "    Args:\n",
    "        X (ndarray): input matrix\n",
    "            - Each row represents a sample\n",
    "            - Each column represents a feature\n",
    "        y (ndarray): output matrix (vector)\n",
    "            - Each row represents a target value\n",
    "        theta (ndarray): weight vector\n",
    "        alpha (float): learning rate\n",
    "        n_iter (int): number of iterations\n",
    "        history (dict): helper object for later visualization\n",
    "        \n",
    "    Returns:\n",
    "        Optimized weight after `n_iter` iterations.\n",
    "    \"\"\"\n",
    "    \n",
    "    xTrans = x.transpose() # We need this later\n",
    "    m = y.size # Number of samples\n",
    "    for i in range(n_iter):\n",
    "        h = np.dot(X, theta)\n",
    "        loss = h - y\n",
    "        sse = np.sum(loss ** 2)\n",
    "        cost = sse / (2 * m)\n",
    "        if (i % 10000 == 0): # Print current cost\n",
    "            history[i] = cost\n",
    "            print(\"Iteration: {} | Cost: {}\".format(i, cost))\n",
    "            \n",
    "        gradient = np.dot(xTrans, loss) / m\n",
    "        theta = theta - alpha * gradient\n",
    "    return theta"
   ]
  },
  {
   "cell_type": "markdown",
   "metadata": {},
   "source": [
    "**Demo**"
   ]
  },
  {
   "cell_type": "code",
   "execution_count": 74,
   "metadata": {},
   "outputs": [],
   "source": [
    "def genData(numPoints, bias, variance):\n",
    "    \"\"\"Generate sample data for GD demo.\n",
    "    \n",
    "    Args:\n",
    "        numPoints (int): number of data points, i.e., m.\n",
    "        bias (float): the bias term in linear regression.\n",
    "        variance (float): noise for our data points.\n",
    "        \n",
    "    Returns:\n",
    "        X: ndarray with dim m*2, the input.\n",
    "        y: ndarray with dim m, the output.\n",
    "    \"\"\"\n",
    "    \n",
    "    X = np.zeros(shape=(numPoints, 2))\n",
    "    y = np.zeros(shape=numPoints)\n",
    "    for i in range(numPoints):\n",
    "        x[i][0] = 1 # arbitrary starting value\n",
    "        x[i][1] = i # arbitrary starting value\n",
    "        y[i] = (i + bias) + random.uniform(0, 1) * variance # randomly generated y values\n",
    "    return x, y"
   ]
  },
  {
   "cell_type": "code",
   "execution_count": 91,
   "metadata": {},
   "outputs": [
    {
     "data": {
      "text/plain": [
       "<matplotlib.collections.PathCollection at 0x7fa59e27a3c8>"
      ]
     },
     "execution_count": 91,
     "metadata": {},
     "output_type": "execute_result"
    },
    {
     "data": {
      "image/png": "[encoded data removed]",
      "text/plain": [
       "<Figure size 432x288 with 1 Axes>"
      ]
     },
     "metadata": {},
     "output_type": "display_data"
    }
   ],
   "source": [
    "# Generate 100 data points, with a bias of 25, plus a certain degree of variance.\n",
    "X, y = genData(100, 25, 15)\n",
    "# Plot the points.\n",
    "plt.scatter(range(100), y)"
   ]
  },
  {
   "cell_type": "code",
   "execution_count": 92,
   "metadata": {},
   "outputs": [
    {
     "name": "stdout",
     "output_type": "stream",
     "text": [
      "Iteration: 0 | Cost: 501.97937160902654\n",
      "Iteration: 10000 | Cost: 19.274007181689772\n",
      "Iteration: 20000 | Cost: 9.57982599768295\n",
      "Iteration: 30000 | Cost: 8.81319286398325\n",
      "Iteration: 40000 | Cost: 8.752566148788764\n",
      "Iteration: 50000 | Cost: 8.747771680047846\n",
      "Iteration: 60000 | Cost: 8.747392524910811\n",
      "Iteration: 70000 | Cost: 8.747362540646506\n",
      "Iteration: 80000 | Cost: 8.747360169437423\n",
      "Iteration: 90000 | Cost: 8.747359981917977\n",
      "Parameters after gradient descent: [33.39634052  0.9799255 ]\n",
      "Best fitting line: 0.9799254960456543x + 33.3963405182539\n"
     ]
    }
   ],
   "source": [
    "# Number of features. In this case, 2:\n",
    "# - theta_0: the \"intercept\"\n",
    "# - theta_1: the \"slope\"\n",
    "n = np.shape(x)[1]\n",
    "\n",
    "theta = np.ones(n) # Arbitrary starting point\n",
    "n_iter = 100000 # Number of iterations\n",
    "alpha = 0.0005 # Arbitrary learning rate\n",
    "history = {} # Helper object to track cost\n",
    "\n",
    "theta = gradientDescent(x, y, theta, alpha, n_iter, history)\n",
    "print(\"Parameters after gradient descent:\", theta)\n",
    "print(\"Best fitting line: {}x + {}\".format(theta[1], theta[0]))"
   ]
  },
  {
   "cell_type": "code",
   "execution_count": 93,
   "metadata": {},
   "outputs": [
    {
     "data": {
      "text/plain": [
       "(0, 100)"
      ]
     },
     "execution_count": 93,
     "metadata": {},
     "output_type": "execute_result"
    },
    {
     "data": {
      "image/png": "[encoded data removed]",
      "text/plain": [
       "<Figure size 432x288 with 1 Axes>"
      ]
     },
     "metadata": {},
     "output_type": "display_data"
    }
   ],
   "source": [
    "fig = plt.plot(history.keys(), history.values())\n",
    "axes = plt.gca()\n",
    "axes.set_ylim([0,100])"
   ]
  },
  {
   "cell_type": "code",
   "execution_count": 94,
   "metadata": {},
   "outputs": [
    {
     "data": {
      "text/plain": [
       "[<matplotlib.lines.Line2D at 0x7fa59e74a630>,\n",
       " <matplotlib.lines.Line2D at 0x7fa59e3ef4e0>]"
      ]
     },
     "execution_count": 94,
     "metadata": {},
     "output_type": "execute_result"
    },
    {
     "data": {
      "image/png": "[encoded data removed]",
      "text/plain": [
       "<Figure size 432x288 with 1 Axes>"
      ]
     },
     "metadata": {},
     "output_type": "display_data"
    }
   ],
   "source": [
    "plt.scatter(range(100), y, color=\"blue\")\n",
    "plt.plot(x, theta[0]+theta[1]*x, color=\"red\", linestyle='--', linewidth='4.0')"
   ]
  },
  {
   "cell_type": "markdown",
   "metadata": {},
   "source": [
    "*Ayyy pretty accurate :)*"
   ]
  }
 ],
 "metadata": {
  "kernelspec": {
   "display_name": "Python 3",
   "language": "python",
   "name": "python3"
  },
  "language_info": {
   "codemirror_mode": {
    "name": "ipython",
    "version": 3
   },
   "file_extension": ".py",
   "mimetype": "text/x-python",
   "name": "python",
   "nbconvert_exporter": "python",
   "pygments_lexer": "ipython3",
   "version": "3.6.7"
  }
 },
 "nbformat": 4,
 "nbformat_minor": 2
}

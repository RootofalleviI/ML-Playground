{
 "cells": [
  {
   "cell_type": "markdown",
   "metadata": {},
   "source": [
    "# Temperature Forecasting with RNN"
   ]
  },
  {
   "cell_type": "markdown",
   "metadata": {},
   "source": [
    "## 1.0 Setup\n",
    "\n",
    "- **Problem**: temperature-forecasting with RNN (see 2.1).\n",
    "- **Source of data**: weather timeseries dataset recorded at the Weather Station at the Max Planck Institute for Biogeochemistry in Jena, Germany."
   ]
  },
  {
   "cell_type": "markdown",
   "metadata": {},
   "source": [
    "### 1.1 Download and unzip the data"
   ]
  },
  {
   "cell_type": "code",
   "execution_count": 20,
   "metadata": {},
   "outputs": [
    {
     "name": "stdout",
     "output_type": "stream",
     "text": [
      "Archive:  jena_climate_2009_2016.csv.zip\n"
     ]
    },
    {
     "name": "stderr",
     "output_type": "stream",
     "text": [
      "mkdir: cannot create directory ‘jena_climate’: File exists\n",
      "--2018-12-02 21:10:16--  https://s3.amazonaws.com/keras-datasets/jena_climate_2009_2016.csv.zip\n",
      "Resolving s3.amazonaws.com (s3.amazonaws.com)... 54.231.98.107\n",
      "Connecting to s3.amazonaws.com (s3.amazonaws.com)|54.231.98.107|:443... connected.\n",
      "HTTP request sent, awaiting response... 200 OK\n",
      "Length: 13568290 (13M) [application/zip]\n",
      "Saving to: ‘jena_climate_2009_2016.csv.zip.1’\n",
      "\n",
      "     0K .......... .......... .......... .......... ..........  0%  973K 14s\n",
      "    50K .......... .......... .......... .......... ..........  0%  830K 15s\n",
      "   100K .......... .......... .......... .......... ..........  1% 1.37M 13s\n",
      "   150K .......... .......... .......... .......... ..........  1% 7.20M 10s\n",
      "   200K .......... .......... .......... .......... ..........  1% 6.76M 8s\n",
      "   250K .......... .......... .......... .......... ..........  2% 1.55M 8s\n",
      "   300K .......... .......... .......... .......... ..........  2% 11.3M 7s\n",
      "   350K .......... .......... .......... .......... ..........  3% 11.5M 6s\n",
      "   400K .......... .......... .......... .......... ..........  3% 8.77M 6s\n",
      "   450K .......... .......... .......... .......... ..........  3% 16.3M 5s\n",
      "   500K .......... .......... .......... .......... ..........  4% 11.2M 5s\n",
      "   550K .......... .......... .......... .......... ..........  4% 3.35M 5s\n",
      "   600K .......... .......... .......... .......... ..........  4% 2.57M 5s\n",
      "   650K .......... .......... .......... .......... ..........  5% 9.65M 5s\n",
      "   700K .......... .......... .......... .......... ..........  5% 8.82M 4s\n",
      "   750K .......... .......... .......... .......... ..........  6% 13.2M 4s\n",
      "   800K .......... .......... .......... .......... ..........  6% 9.20M 4s\n",
      "   850K .......... .......... .......... .......... ..........  6% 30.5M 4s\n",
      "   900K .......... .......... .......... .......... ..........  7% 10.1M 4s\n",
      "   950K .......... .......... .......... .......... ..........  7% 17.1M 3s\n",
      "  1000K .......... .......... .......... .......... ..........  7% 12.4M 3s\n",
      "  1050K .......... .......... .......... .......... ..........  8% 10.2M 3s\n",
      "  1100K .......... .......... .......... .......... ..........  8% 14.4M 3s\n",
      "  1150K .......... .......... .......... .......... ..........  9% 11.7M 3s\n",
      "  1200K .......... .......... .......... .......... ..........  9% 9.86M 3s\n",
      "  1250K .......... .......... .......... .......... ..........  9% 16.5M 3s\n",
      "  1300K .......... .......... .......... .......... .......... 10% 9.59M 3s\n",
      "  1350K .......... .......... .......... .......... .......... 10% 14.1M 3s\n",
      "  1400K .......... .......... .......... .......... .......... 10% 11.1M 3s\n",
      "  1450K .......... .......... .......... .......... .......... 11% 10.5M 2s\n",
      "  1500K .......... .......... .......... .......... .......... 11% 9.52M 2s\n",
      "  1550K .......... .......... .......... .......... .......... 12% 8.53M 2s\n",
      "  1600K .......... .......... .......... .......... .......... 12% 25.5M 2s\n",
      "  1650K .......... .......... .......... .......... .......... 12% 12.2M 2s\n",
      "  1700K .......... .......... .......... .......... .......... 13% 9.18M 2s\n",
      "  1750K .......... .......... .......... .......... .......... 13% 10.6M 2s\n",
      "  1800K .......... .......... .......... .......... .......... 13% 10.7M 2s\n",
      "  1850K .......... .......... .......... .......... .......... 14% 18.1M 2s\n",
      "  1900K .......... .......... .......... .......... .......... 14% 10.9M 2s\n",
      "  1950K .......... .......... .......... .......... .......... 15% 19.5M 2s\n",
      "  2000K .......... .......... .......... .......... .......... 15% 12.9M 2s\n",
      "  2050K .......... .......... .......... .......... .......... 15% 8.72M 2s\n",
      "  2100K .......... .......... .......... .......... .......... 16% 18.8M 2s\n",
      "  2150K .......... .......... .......... .......... .......... 16% 9.34M 2s\n",
      "  2200K .......... .......... .......... .......... .......... 16% 12.3M 2s\n",
      "  2250K .......... .......... .......... .......... .......... 17% 12.5M 2s\n",
      "  2300K .......... .......... .......... .......... .......... 17% 12.2M 2s\n",
      "  2350K .......... .......... .......... .......... .......... 18% 11.3M 2s\n",
      "  2400K .......... .......... .......... .......... .......... 18% 11.8M 2s\n",
      "  2450K .......... .......... .......... .......... .......... 18% 11.5M 2s\n",
      "  2500K .......... .......... .......... .......... .......... 19% 11.5M 2s\n",
      "  2550K .......... .......... .......... .......... .......... 19% 12.0M 2s\n",
      "  2600K .......... .......... .......... .......... .......... 19% 11.4M 2s\n",
      "  2650K .......... .......... .......... .......... .......... 20% 12.6M 2s\n",
      "  2700K .......... .......... .......... .......... .......... 20% 12.3M 2s\n",
      "  2750K .......... .......... .......... .......... .......... 21% 12.0M 2s\n",
      "  2800K .......... .......... .......... .......... .......... 21% 10.8M 2s\n",
      "  2850K .......... .......... .......... .......... .......... 21% 22.7M 2s\n",
      "  2900K .......... .......... .......... .......... .......... 22% 10.5M 2s\n",
      "  2950K .......... .......... .......... .......... .......... 22% 7.54M 2s\n",
      "  3000K .......... .......... .......... .......... .......... 23% 7.95M 2s\n",
      "  3050K .......... .......... .......... .......... .......... 23% 10.8M 1s\n",
      "  3100K .......... .......... .......... .......... .......... 23% 13.7M 1s\n",
      "  3150K .......... .......... .......... .......... .......... 24% 15.2M 1s\n",
      "  3200K .......... .......... .......... .......... .......... 24% 12.1M 1s\n",
      "  3250K .......... .......... .......... .......... .......... 24% 5.48M 1s\n",
      "  3300K .......... .......... .......... .......... .......... 25% 83.9M 1s\n",
      "  3350K .......... .......... .......... .......... .......... 25% 17.3M 1s\n",
      "  3400K .......... .......... .......... .......... .......... 26% 11.7M 1s\n",
      "  3450K .......... .......... .......... .......... .......... 26% 14.5M 1s\n",
      "  3500K .......... .......... .......... .......... .......... 26% 10.3M 1s\n",
      "  3550K .......... .......... .......... .......... .......... 27% 8.81M 1s\n",
      "  3600K .......... .......... .......... .......... .......... 27% 14.7M 1s\n",
      "  3650K .......... .......... .......... .......... .......... 27% 15.3M 1s\n",
      "  3700K .......... .......... .......... .......... .......... 28% 14.2M 1s\n",
      "  3750K .......... .......... .......... .......... .......... 28% 17.1M 1s\n",
      "  3800K .......... .......... .......... .......... .......... 29% 11.1M 1s\n",
      "  3850K .......... .......... .......... .......... .......... 29% 11.8M 1s\n",
      "  3900K .......... .......... .......... .......... .......... 29% 12.2M 1s\n",
      "  3950K .......... .......... .......... .......... .......... 30% 14.9M 1s\n",
      "  4000K .......... .......... .......... .......... .......... 30% 8.18M 1s\n",
      "  4050K .......... .......... .......... .......... .......... 30% 22.6M 1s\n",
      "  4100K .......... .......... .......... .......... .......... 31% 8.96M 1s\n",
      "  4150K .......... .......... .......... .......... .......... 31% 13.6M 1s\n",
      "  4200K .......... .......... .......... .......... .......... 32% 8.18M 1s\n",
      "  4250K .......... .......... .......... .......... .......... 32% 15.3M 1s\n",
      "  4300K .......... .......... .......... .......... .......... 32% 9.65M 1s\n",
      "  4350K .......... .......... .......... .......... .......... 33% 17.0M 1s\n",
      "  4400K .......... .......... .......... .......... .......... 33% 16.0M 1s\n",
      "  4450K .......... .......... .......... .......... .......... 33% 13.6M 1s\n",
      "  4500K .......... .......... .......... .......... .......... 34% 14.8M 1s\n",
      "  4550K .......... .......... .......... .......... .......... 34% 14.9M 1s\n",
      "  4600K .......... .......... .......... .......... .......... 35% 9.06M 1s\n",
      "  4650K .......... .......... .......... .......... .......... 35% 12.6M 1s\n",
      "  4700K .......... .......... .......... .......... .......... 35% 12.2M 1s\n",
      "  4750K .......... .......... .......... .......... .......... 36% 10.4M 1s\n",
      "  4800K .......... .......... .......... .......... .......... 36% 10.6M 1s\n",
      "  4850K .......... .......... .......... .......... .......... 36% 15.1M 1s\n",
      "  4900K .......... .......... .......... .......... .......... 37% 16.1M 1s\n",
      "  4950K .......... .......... .......... .......... .......... 37% 10.4M 1s\n",
      "  5000K .......... .......... .......... .......... .......... 38% 10.6M 1s\n",
      "  5050K .......... .......... .......... .......... .......... 38% 13.9M 1s\n",
      "  5100K .......... .......... .......... .......... .......... 38% 11.3M 1s\n",
      "  5150K .......... .......... .......... .......... .......... 39% 11.9M 1s\n",
      "  5200K .......... .......... .......... .......... .......... 39% 11.6M 1s\n",
      "  5250K .......... .......... .......... .......... .......... 39% 16.4M 1s\n",
      "  5300K .......... .......... .......... .......... .......... 40% 8.86M 1s\n",
      "  5350K .......... .......... .......... .......... .......... 40% 39.9M 1s\n",
      "  5400K .......... .......... .......... .......... .......... 41% 9.02M 1s\n",
      "  5450K .......... .......... .......... .......... .......... 41% 15.6M 1s\n",
      "  5500K .......... .......... .......... .......... .......... 41% 6.78M 1s\n",
      "  5550K .......... .......... .......... .......... .......... 42% 17.2M 1s\n",
      "  5600K .......... .......... .......... .......... .......... 42% 14.0M 1s\n",
      "  5650K .......... .......... .......... .......... .......... 43% 12.2M 1s\n",
      "  5700K .......... .......... .......... .......... .......... 43% 9.70M 1s\n",
      "  5750K .......... .......... .......... .......... .......... 43% 11.6M 1s\n",
      "  5800K .......... .......... .......... .......... .......... 44% 12.6M 1s\n",
      "  5850K .......... .......... .......... .......... .......... 44% 9.39M 1s\n",
      "  5900K .......... .......... .......... .......... .......... 44% 6.72M 1s\n",
      "  5950K .......... .......... .......... .......... .......... 45% 77.3M 1s\n",
      "  6000K .......... .......... .......... .......... .......... 45% 13.6M 1s\n",
      "  6050K .......... .......... .......... .......... .......... 46% 15.3M 1s\n",
      "  6100K .......... .......... .......... .......... .......... 46% 10.9M 1s\n",
      "  6150K .......... .......... .......... .......... .......... 46% 10.2M 1s\n",
      "  6200K .......... .......... .......... .......... .......... 47% 12.5M 1s\n",
      "  6250K .......... .......... .......... .......... .......... 47% 11.2M 1s\n",
      "  6300K .......... .......... .......... .......... .......... 47% 23.1M 1s\n",
      "  6350K .......... .......... .......... .......... .......... 48% 13.4M 1s\n",
      "  6400K .......... .......... .......... .......... .......... 48% 11.7M 1s\n",
      "  6450K .......... .......... .......... .......... .......... 49% 12.7M 1s\n",
      "  6500K .......... .......... .......... .......... .......... 49% 12.8M 1s\n",
      "  6550K .......... .......... .......... .......... .......... 49% 13.6M 1s\n",
      "  6600K .......... .......... .......... .......... .......... 50% 10.1M 1s\n",
      "  6650K .......... .......... .......... .......... .......... 50% 9.93M 1s\n",
      "  6700K .......... .......... .......... .......... .......... 50% 12.4M 1s\n",
      "  6750K .......... .......... .......... .......... .......... 51% 8.56M 1s\n",
      "  6800K .......... .......... .......... .......... .......... 51% 13.7M 1s\n",
      "  6850K .......... .......... .......... .......... .......... 52% 9.53M 1s\n",
      "  6900K .......... .......... .......... .......... .......... 52% 15.3M 1s\n",
      "  6950K .......... .......... .......... .......... .......... 52% 17.1M 1s\n",
      "  7000K .......... .......... .......... .......... .......... 53% 10.9M 1s\n",
      "  7050K .......... .......... .......... .......... .......... 53% 11.6M 1s\n",
      "  7100K .......... .......... .......... .......... .......... 53% 14.9M 1s\n",
      "  7150K .......... .......... .......... .......... .......... 54% 11.1M 1s\n",
      "  7200K .......... .......... .......... .......... .......... 54% 16.0M 1s\n",
      "  7250K .......... .......... .......... .......... .......... 55% 9.84M 1s\n",
      "  7300K .......... .......... .......... .......... .......... 55% 18.4M 1s\n",
      "  7350K .......... .......... .......... .......... .......... 55% 15.1M 1s\n",
      "  7400K .......... .......... .......... .......... .......... 56% 10.8M 1s\n",
      "  7450K .......... .......... .......... .......... .......... 56% 11.0M 1s\n",
      "  7500K .......... .......... .......... .......... .......... 56% 10.8M 1s\n",
      "  7550K .......... .......... .......... .......... .......... 57% 19.2M 1s\n",
      "  7600K .......... .......... .......... .......... .......... 57% 11.3M 1s\n",
      "  7650K .......... .......... .......... .......... .......... 58% 11.3M 1s\n",
      "  7700K .......... .......... .......... .......... .......... 58% 12.1M 1s\n",
      "  7750K .......... .......... .......... .......... .......... 58% 11.8M 1s\n",
      "  7800K .......... .......... .......... .......... .......... 59% 10.4M 1s\n",
      "  7850K .......... .......... .......... .......... .......... 59% 12.4M 1s\n",
      "  7900K .......... .......... .......... .......... .......... 59% 10.3M 1s\n",
      "  7950K .......... .......... .......... .......... .......... 60% 18.6M 1s\n",
      "  8000K .......... .......... .......... .......... .......... 60% 7.14M 1s\n",
      "  8050K .......... .......... .......... .......... .......... 61% 14.6M 1s\n",
      "  8100K .......... .......... .......... .......... .......... 61% 11.8M 1s\n",
      "  8150K .......... .......... .......... .......... .......... 61% 12.0M 1s\n",
      "  8200K .......... .......... .......... .......... .......... 62% 11.9M 1s\n",
      "  8250K .......... .......... .......... .......... .......... 62% 11.8M 1s\n",
      "  8300K .......... .......... .......... .......... .......... 63% 12.1M 1s\n",
      "  8350K .......... .......... .......... .......... .......... 63% 10.6M 1s\n",
      "  8400K .......... .......... .......... .......... .......... 63% 12.0M 1s\n",
      "  8450K .......... .......... .......... .......... .......... 64% 11.3M 0s\n",
      "  8500K .......... .......... .......... .......... .......... 64% 13.2M 0s\n",
      "  8550K .......... .......... .......... .......... .......... 64% 9.82M 0s\n",
      "  8600K .......... .......... .......... .......... .......... 65% 11.0M 0s\n",
      "  8650K .......... .......... .......... .......... .......... 65% 16.2M 0s\n",
      "  8700K .......... .......... .......... .......... .......... 66% 10.8M 0s\n",
      "  8750K .......... .......... .......... .......... .......... 66% 10.9M 0s\n",
      "  8800K .......... .......... .......... .......... .......... 66% 22.9M 0s\n",
      "  8850K .......... .......... .......... .......... .......... 67% 13.0M 0s\n",
      "  8900K .......... .......... .......... .......... .......... 67% 10.7M 0s\n",
      "  8950K .......... .......... .......... .......... .......... 67% 13.5M 0s\n",
      "  9000K .......... .......... .......... .......... .......... 68% 7.51M 0s\n",
      "  9050K .......... .......... .......... .......... .......... 68% 24.9M 0s\n",
      "  9100K .......... .......... .......... .......... .......... 69% 11.1M 0s\n",
      "  9150K .......... .......... .......... .......... .......... 69% 12.1M 0s\n",
      "  9200K .......... .......... .......... .......... .......... 69% 13.3M 0s\n",
      "  9250K .......... .......... .......... .......... .......... 70% 6.74M 0s\n",
      "  9300K .......... .......... .......... .......... .......... 70% 11.5M 0s\n",
      "  9350K .......... .......... .......... .......... .......... 70% 12.8M 0s\n",
      "  9400K .......... .......... .......... .......... .......... 71% 11.0M 0s\n",
      "  9450K .......... .......... .......... .......... .......... 71% 10.7M 0s\n",
      "  9500K .......... .......... .......... .......... .......... 72% 13.0M 0s\n",
      "  9550K .......... .......... .......... .......... .......... 72% 15.3M 0s\n",
      "  9600K .......... .......... .......... .......... .......... 72% 19.7M 0s\n",
      "  9650K .......... .......... .......... .......... .......... 73% 9.14M 0s\n",
      "  9700K .......... .......... .......... .......... .......... 73% 13.9M 0s\n",
      "  9750K .......... .......... .......... .......... .......... 73% 16.9M 0s\n",
      "  9800K .......... .......... .......... .......... .......... 74% 10.3M 0s\n",
      "  9850K .......... .......... .......... .......... .......... 74% 11.1M 0s\n",
      "  9900K .......... .......... .......... .......... .......... 75% 11.0M 0s\n",
      "  9950K .......... .......... .......... .......... .......... 75% 20.1M 0s\n",
      " 10000K .......... .......... .......... .......... .......... 75% 14.1M 0s\n",
      " 10050K .......... .......... .......... .......... .......... 76% 12.0M 0s\n",
      " 10100K .......... .......... .......... .......... .......... 76% 11.3M 0s\n",
      " 10150K .......... .......... .......... .......... .......... 76% 10.2M 0s\n",
      " 10200K .......... .......... .......... .......... .......... 77% 10.5M 0s\n",
      " 10250K .......... .......... .......... .......... .......... 77% 13.5M 0s\n",
      " 10300K .......... .......... .......... .......... .......... 78% 9.16M 0s\n",
      " 10350K .......... .......... .......... .......... .......... 78% 13.3M 0s\n",
      " 10400K .......... .......... .......... .......... .......... 78% 8.25M 0s\n",
      " 10450K .......... .......... .......... .......... .......... 79% 65.7M 0s\n",
      " 10500K .......... .......... .......... .......... .......... 79% 7.65M 0s\n",
      " 10550K .......... .......... .......... .......... .......... 79% 13.8M 0s\n",
      " 10600K .......... .......... .......... .......... .......... 80% 8.47M 0s\n",
      " 10650K .......... .......... .......... .......... .......... 80% 13.8M 0s\n",
      " 10700K .......... .......... .......... .......... .......... 81% 17.8M 0s\n",
      " 10750K .......... .......... .......... .......... .......... 81% 13.4M 0s\n",
      " 10800K .......... .......... .......... .......... .......... 81% 9.96M 0s\n",
      " 10850K .......... .......... .......... .......... .......... 82% 7.31M 0s\n",
      " 10900K .......... .......... .......... .......... .......... 82% 11.3M 0s\n",
      " 10950K .......... .......... .......... .......... .......... 83% 22.1M 0s\n",
      " 11000K .......... .......... .......... .......... .......... 83% 12.1M 0s\n",
      " 11050K .......... .......... .......... .......... .......... 83% 13.6M 0s\n",
      " 11100K .......... .......... .......... .......... .......... 84% 10.4M 0s\n",
      " 11150K .......... .......... .......... .......... .......... 84% 13.4M 0s\n",
      " 11200K .......... .......... .......... .......... .......... 84% 11.6M 0s\n",
      " 11250K .......... .......... .......... .......... .......... 85% 13.0M 0s\n",
      " 11300K .......... .......... .......... .......... .......... 85% 15.5M 0s\n",
      " 11350K .......... .......... .......... .......... .......... 86% 7.74M 0s\n",
      " 11400K .......... .......... .......... .......... .......... 86% 27.1M 0s\n",
      " 11450K .......... .......... .......... .......... .......... 86% 10.8M 0s\n",
      " 11500K .......... .......... .......... .......... .......... 87% 11.9M 0s\n",
      " 11550K .......... .......... .......... .......... .......... 87% 14.4M 0s\n",
      " 11600K .......... .......... .......... .......... .......... 87% 10.5M 0s\n",
      " 11650K .......... .......... .......... .......... .......... 88% 20.9M 0s\n",
      " 11700K .......... .......... .......... .......... .......... 88% 12.7M 0s\n",
      " 11750K .......... .......... .......... .......... .......... 89% 7.24M 0s\n",
      " 11800K .......... .......... .......... .......... .......... 89% 10.6M 0s\n",
      " 11850K .......... .......... .......... .......... .......... 89% 9.64M 0s\n",
      " 11900K .......... .......... .......... .......... .......... 90% 15.2M 0s\n",
      " 11950K .......... .......... .......... .......... .......... 90% 3.03M 0s\n",
      " 12000K .......... .......... .......... .......... .......... 90% 9.46M 0s\n",
      " 12050K .......... .......... .......... .......... .......... 91% 13.5M 0s\n",
      " 12100K .......... .......... .......... .......... .......... 91% 18.8M 0s\n",
      " 12150K .......... .......... .......... .......... .......... 92% 12.0M 0s\n",
      " 12200K .......... .......... .......... .......... .......... 92% 9.45M 0s\n",
      " 12250K .......... .......... .......... .......... .......... 92% 18.7M 0s\n",
      " 12300K .......... .......... .......... .......... .......... 93% 13.9M 0s\n",
      " 12350K .......... .......... .......... .......... .......... 93% 17.5M 0s\n",
      " 12400K .......... .......... .......... .......... .......... 93% 13.8M 0s\n",
      " 12450K .......... .......... .......... .......... .......... 94% 14.4M 0s\n",
      " 12500K .......... .......... .......... .......... .......... 94% 15.5M 0s\n",
      " 12550K .......... .......... .......... .......... .......... 95% 10.5M 0s\n",
      " 12600K .......... .......... .......... .......... .......... 95% 10.3M 0s\n",
      " 12650K .......... .......... .......... .......... .......... 95% 14.0M 0s\n",
      " 12700K .......... .......... .......... .......... .......... 96% 15.1M 0s\n",
      " 12750K .......... .......... .......... .......... .......... 96% 14.2M 0s\n",
      " 12800K .......... .......... .......... .......... .......... 96% 13.8M 0s\n",
      " 12850K .......... .......... .......... .......... .......... 97% 10.2M 0s\n",
      " 12900K .......... .......... .......... .......... .......... 97% 8.54M 0s\n",
      " 12950K .......... .......... .......... .......... .......... 98% 19.6M 0s\n",
      " 13000K .......... .......... .......... .......... .......... 98% 11.3M 0s\n",
      " 13050K .......... .......... .......... .......... .......... 98% 9.88M 0s\n",
      " 13100K .......... .......... .......... .......... .......... 99% 12.1M 0s\n",
      " 13150K .......... .......... .......... .......... .......... 99% 17.3M 0s\n",
      " 13200K .......... .......... .......... .......... .......... 99% 19.2M 0s\n",
      " 13250K                                                       100%  540G=1.3s\n",
      "\n",
      "2018-12-02 21:10:17 (10.1 MB/s) - ‘jena_climate_2009_2016.csv.zip.1’ saved [13568290/13568290]\n",
      "\n",
      "replace jena_climate_2009_2016.csv? [y]es, [n]o, [A]ll, [N]one, [r]ename:  NULL\n",
      "(EOF or read error, treating as \"[N]one\" ...)\n"
     ]
    }
   ],
   "source": [
    "%%bash\n",
    "\n",
    "mkdir jena_climate\n",
    "cd jena_climate\n",
    "wget https://s3.amazonaws.com/keras-datasets/jena_climate_2009_2016.csv.zip\n",
    "unzip jena_climate_2009_2016.csv.zip"
   ]
  },
  {
   "cell_type": "markdown",
   "metadata": {},
   "source": [
    "### 1.2 Convert data to numpy arrays"
   ]
  },
  {
   "cell_type": "code",
   "execution_count": 22,
   "metadata": {},
   "outputs": [
    {
     "name": "stdout",
     "output_type": "stream",
     "text": [
      "Number of data points: 420551\n"
     ]
    }
   ],
   "source": [
    "import os \n",
    "\n",
    "data_dir = './jena_climate'\n",
    "fname = os.path.join(data_dir, 'jena_climate_2009_2016.csv')\n",
    "\n",
    "f = open(fname)\n",
    "data = f.read()\n",
    "f.close()\n",
    "\n",
    "lines = data.split('\\n')\n",
    "header = lines[0].split(',')\n",
    "lines = lines[1:]\n",
    "\n",
    "# for h in header:\n",
    "#     print(h)\n",
    "print(\"Number of data points:\", len(lines))"
   ]
  },
  {
   "cell_type": "code",
   "execution_count": 8,
   "metadata": {},
   "outputs": [],
   "source": [
    "import numpy as np\n",
    "\n",
    "float_data = np.zeros((len(lines), len(header) - 1))\n",
    "for i, line in enumerate(lines):\n",
    "    values = [float(x) for x in line.split(',')[1:]]\n",
    "    float_data[i, :] = values"
   ]
  },
  {
   "cell_type": "markdown",
   "metadata": {},
   "source": [
    "### 1.3 Take a look\n",
    "\n",
    "We first plot the entire temperature series."
   ]
  },
  {
   "cell_type": "code",
   "execution_count": 12,
   "metadata": {},
   "outputs": [
    {
     "data": {
      "text/plain": [
       "[<matplotlib.lines.Line2D at 0x7fd36822fd68>]"
      ]
     },
     "execution_count": 12,
     "metadata": {},
     "output_type": "execute_result"
    },
    {
     "data": {
      "image/png": "[encoded data removed]",
      "text/plain": [
       "<Figure size 432x288 with 1 Axes>"
      ]
     },
     "metadata": {},
     "output_type": "display_data"
    }
   ],
   "source": [
    "from matplotlib import pyplot as plt\n",
    "%matplotlib inline\n",
    "\n",
    "temp = float_data[:, 1]\n",
    "plt.title(\"Temperature series\")\n",
    "plt.plot(range(len(temp)), temp)"
   ]
  },
  {
   "cell_type": "markdown",
   "metadata": {},
   "source": [
    "Next, we plot the first 10 days of temperature timeseries. Since data is recorded every 10 minutes, you get 144 data points per day and thus 1440 data points in total. On this plot, we can ses daily periodicity, especially for the last four days."
   ]
  },
  {
   "cell_type": "code",
   "execution_count": 14,
   "metadata": {},
   "outputs": [
    {
     "data": {
      "text/plain": [
       "[<matplotlib.lines.Line2D at 0x7fd36816cc18>]"
      ]
     },
     "execution_count": 14,
     "metadata": {},
     "output_type": "execute_result"
    },
    {
     "data": {
      "image/png": "[encoded data removed]",
      "text/plain": [
       "<Figure size 432x288 with 1 Axes>"
      ]
     },
     "metadata": {},
     "output_type": "display_data"
    }
   ],
   "source": [
    "plt.title(\"First 10 days of the temperature timeseries\")\n",
    "plt.plot(range(1440), temp[:1440])"
   ]
  },
  {
   "cell_type": "markdown",
   "metadata": {},
   "source": [
    "---\n",
    "## 2.0 Preprocess"
   ]
  },
  {
   "cell_type": "markdown",
   "metadata": {},
   "source": [
    "### 2.1 Define the problem\n",
    "\n",
    "Given data going as far back as `lookback` timesteps (each timestep is 10 minutes) and sampled every `step` timesteps, we want to predict the temperature in `delay` timesteps.\n",
    "\n",
    "- `lookback = 720`: observations will go back 5 days.\n",
    "- `steps = 6`: observations will be sampled at one data point per hour.\n",
    "- `delay = 144`: target will be 24 hours in the future."
   ]
  },
  {
   "cell_type": "markdown",
   "metadata": {},
   "source": [
    "### 2.2 Preprocess steps\n",
    "\n",
    "Normalize each timeseries independently so that they all take small values on a similar scale. "
   ]
  },
  {
   "cell_type": "code",
   "execution_count": 15,
   "metadata": {},
   "outputs": [],
   "source": [
    "mean = float_data[:200000].mean(axis=0)\n",
    "float_data -= mean\n",
    "\n",
    "std = float_data[:200000].std(axis=0)\n",
    "float_data /= std"
   ]
  },
  {
   "cell_type": "markdown",
   "metadata": {},
   "source": [
    "Next, we write a Python generator that takes current array of float data and yields batches of the data from the recent past, along with a target temperature in the future. This is because the samples in the dataset are highly redundant, it would be wasteful to explicitly allocate every simple. Instead, we'll generate the samples on the fly using the original data."
   ]
  },
  {
   "cell_type": "code",
   "execution_count": 17,
   "metadata": {},
   "outputs": [],
   "source": [
    "def generator(data, lookback, delay, min_index, max_index, shuffle=False, batch_size=128, step=6):\n",
    "    \n",
    "    \"\"\"Yield a tuple (samples, targets), where samples is one batch of input data and targets is\n",
    "    the corresponding array of target temperatures.\n",
    "    \n",
    "    - data: the original array of floating-point data that we normalized above.\n",
    "    - lookback: how many timesteps back the input data should go.\n",
    "    - delay: how many timesteps in the future the target should be.\n",
    "    - min_index, max_index: indices in the data array that delimit which timesteps to draw from.\n",
    "        This is useful for keeping a segment of data for validation and another for testing.\n",
    "    - shuffle: whether to shuffle the samples or draw them in chronilogical order.\n",
    "    - batch_size: the number of samples per batch.\n",
    "    - step: the period, in timesteps, at which you sample data. We set it to 6 in order to draw\n",
    "        one data point per hour.  \n",
    "    \"\"\"\n",
    "    \n",
    "    if max_index is None:\n",
    "        max_index = len(data) - delay - 1\n",
    "    i = min_index + lookback\n",
    "    while True:\n",
    "        if shuffle:\n",
    "            rows = np.random.randint(min_index + lookback, max_index, size=batch_size)\n",
    "        else:\n",
    "            if i + batch_size >= max_index:\n",
    "                i = min_index + lookback\n",
    "            rows = np.arange(i, min(i + batch_size, max_index))\n",
    "            i += len(rows)\n",
    "            \n",
    "        samples = np.zeros((len(rows), lookback // step, data.shape[-1]))\n",
    "        targets = np.zeros((len(rows),))\n",
    "        \n",
    "        for j, row in enumerate(rows):\n",
    "            indices = range(rows[j] - lookback, rows[j], step)\n",
    "            samples[j] = data[indices]\n",
    "            targets[j] = data[rows[j] + delay][1]\n",
    "        \n",
    "        yield samples, targets"
   ]
  },
  {
   "cell_type": "markdown",
   "metadata": {},
   "source": [
    "We use the abstract `generator` function to instantiate three generators: one for training, which looks at the first 200000 timesteps; one for validation, which looks at the following 100000; one for test, which looks at the remainder."
   ]
  },
  {
   "cell_type": "code",
   "execution_count": 19,
   "metadata": {},
   "outputs": [],
   "source": [
    "lookback = 1440  # 5 days\n",
    "step = 6         # 1 data point each hour\n",
    "delay = 144      # next 24 hours\n",
    "\n",
    "batch_size = 128\n",
    "\n",
    "train_gen = generator(\n",
    "    float_data,\n",
    "    lookback=lookback,\n",
    "    delay=delay,\n",
    "    min_index=0,\n",
    "    max_index=200000,\n",
    "    shuffle=True,\n",
    "    step=step,\n",
    "    batch_size=batch_size\n",
    ")\n",
    "\n",
    "val_gen = generator(\n",
    "    float_data,\n",
    "    lookback=lookback,\n",
    "    delay=delay,\n",
    "    min_index=200001,\n",
    "    max_index=300000,\n",
    "    step=step,\n",
    "    batch_size=batch_size\n",
    ")\n",
    "\n",
    "test_gen = generator(\n",
    "    float_data,\n",
    "    lookback=lookback,\n",
    "    delay=delay,\n",
    "    min_index=300001,\n",
    "    max_index=None,\n",
    "    step=step,\n",
    "    batch_size=batch_size\n",
    ")\n",
    "\n",
    "# how many steps to draw from val_gen in order to see the entire validate set\n",
    "val_steps = (300000 - 200001 - lookback) \n",
    "\n",
    "# how many steps to draw from test_gen in order to see the entire test set\n",
    "test_steps = (len(float_data) - 300001 - lookback)"
   ]
  },
  {
   "cell_type": "markdown",
   "metadata": {},
   "source": [
    "### 2.3 Helper function for plotting"
   ]
  },
  {
   "cell_type": "code",
   "execution_count": 32,
   "metadata": {},
   "outputs": [],
   "source": [
    "import matplotlib.pyplot as plt\n",
    "%matplotlib inline\n",
    "\n",
    "def plot_accuracy_loss(history):\n",
    "    history = history.history\n",
    "    loss, val_loss = history['loss'], history['val_loss']\n",
    "    epochs = range(1, len(loss) + 1)\n",
    "\n",
    "    plt.plot(epochs, loss, 'm', label='Training Loss')\n",
    "    plt.plot(epochs, val_loss, 'b', label='Validation Loss')\n",
    "    plt.title('Training and Validation Loss')\n",
    "    plt.legend()\n",
    "    plt.figure()\n",
    "    plt.show()"
   ]
  },
  {
   "cell_type": "markdown",
   "metadata": {},
   "source": [
    "---\n",
    "## 3.0 Baseline Models\n",
    "\n",
    "When we are approaching a new problem for which there is no known solution (yet), we should establish baselines before we start using black-box DL models."
   ]
  },
  {
   "cell_type": "markdown",
   "metadata": {},
   "source": [
    "### 3.1 A common-sense, non-ML baseline\n",
    "This non-ML approach will serve as a sanity check and establish a baseline: we predict that the temperature 24 hours from now will equal to the temperature right now and evaluate with MAE."
   ]
  },
  {
   "cell_type": "code",
   "execution_count": 23,
   "metadata": {},
   "outputs": [
    {
     "name": "stdout",
     "output_type": "stream",
     "text": [
      "0.28969941979609765\n"
     ]
    }
   ],
   "source": [
    "def evaluate_naive_method():\n",
    "    batch_maes = []\n",
    "    for step in range(val_steps):\n",
    "        samples, targets = next(val_gen)\n",
    "        preds = samples[:, -1, 1]\n",
    "        mae = np.mean(np.abs(preds - targets))\n",
    "        batch_maes.append(mae)\n",
    "    print(np.mean(batch_maes))\n",
    "    \n",
    "evaluate_naive_method()"
   ]
  },
  {
   "cell_type": "markdown",
   "metadata": {},
   "source": [
    "Recall the temperature data has been normalized to be centered on 0 and have a standard deviation of 1. We translate it back to degree Celsius:"
   ]
  },
  {
   "cell_type": "code",
   "execution_count": 25,
   "metadata": {},
   "outputs": [
    {
     "data": {
      "text/plain": [
       "2.5672247338393395"
      ]
     },
     "execution_count": 25,
     "metadata": {},
     "output_type": "execute_result"
    }
   ],
   "source": [
    "celsius_mae = 0.29 * std[1]\n",
    "celsius_mae"
   ]
  },
  {
   "cell_type": "markdown",
   "metadata": {},
   "source": [
    "### 3.2 A basic ML approach\n",
    "\n",
    "We use a basic regression model:"
   ]
  },
  {
   "cell_type": "code",
   "execution_count": 28,
   "metadata": {},
   "outputs": [
    {
     "name": "stdout",
     "output_type": "stream",
     "text": [
      "Epoch 1/20\n",
      "496/500 [============================>.] - ETA: 0s - loss: 1.2299"
     ]
    },
    {
     "ename": "KeyboardInterrupt",
     "evalue": "",
     "output_type": "error",
     "traceback": [
      "\u001b[0;31m---------------------------------------------------------------------\u001b[0m",
      "\u001b[0;31mKeyboardInterrupt\u001b[0m                   Traceback (most recent call last)",
      "\u001b[0;32m<ipython-input-28-8815e559ca04>\u001b[0m in \u001b[0;36m<module>\u001b[0;34m()\u001b[0m\n\u001b[1;32m     13\u001b[0m     \u001b[0mepochs\u001b[0m\u001b[0;34m=\u001b[0m\u001b[0;36m20\u001b[0m\u001b[0;34m,\u001b[0m\u001b[0;34m\u001b[0m\u001b[0;34m\u001b[0m\u001b[0m\n\u001b[1;32m     14\u001b[0m     \u001b[0mvalidation_data\u001b[0m\u001b[0;34m=\u001b[0m\u001b[0mval_gen\u001b[0m\u001b[0;34m,\u001b[0m\u001b[0;34m\u001b[0m\u001b[0;34m\u001b[0m\u001b[0m\n\u001b[0;32m---> 15\u001b[0;31m     \u001b[0mvalidation_steps\u001b[0m\u001b[0;34m=\u001b[0m\u001b[0mval_steps\u001b[0m\u001b[0;34m\u001b[0m\u001b[0;34m\u001b[0m\u001b[0m\n\u001b[0m\u001b[1;32m     16\u001b[0m )\n",
      "\u001b[0;32m~/.local/lib/python3.6/site-packages/keras/legacy/interfaces.py\u001b[0m in \u001b[0;36mwrapper\u001b[0;34m(*args, **kwargs)\u001b[0m\n\u001b[1;32m     89\u001b[0m                 warnings.warn('Update your `' + object_name + '` call to the ' +\n\u001b[1;32m     90\u001b[0m                               'Keras 2 API: ' + signature, stacklevel=2)\n\u001b[0;32m---> 91\u001b[0;31m             \u001b[0;32mreturn\u001b[0m \u001b[0mfunc\u001b[0m\u001b[0;34m(\u001b[0m\u001b[0;34m*\u001b[0m\u001b[0margs\u001b[0m\u001b[0;34m,\u001b[0m \u001b[0;34m**\u001b[0m\u001b[0mkwargs\u001b[0m\u001b[0;34m)\u001b[0m\u001b[0;34m\u001b[0m\u001b[0;34m\u001b[0m\u001b[0m\n\u001b[0m\u001b[1;32m     92\u001b[0m         \u001b[0mwrapper\u001b[0m\u001b[0;34m.\u001b[0m\u001b[0m_original_function\u001b[0m \u001b[0;34m=\u001b[0m \u001b[0mfunc\u001b[0m\u001b[0;34m\u001b[0m\u001b[0;34m\u001b[0m\u001b[0m\n\u001b[1;32m     93\u001b[0m         \u001b[0;32mreturn\u001b[0m \u001b[0mwrapper\u001b[0m\u001b[0;34m\u001b[0m\u001b[0;34m\u001b[0m\u001b[0m\n",
      "\u001b[0;32m~/.local/lib/python3.6/site-packages/keras/engine/training.py\u001b[0m in \u001b[0;36mfit_generator\u001b[0;34m(self, generator, steps_per_epoch, epochs, verbose, callbacks, validation_data, validation_steps, class_weight, max_queue_size, workers, use_multiprocessing, shuffle, initial_epoch)\u001b[0m\n\u001b[1;32m   1416\u001b[0m             \u001b[0muse_multiprocessing\u001b[0m\u001b[0;34m=\u001b[0m\u001b[0muse_multiprocessing\u001b[0m\u001b[0;34m,\u001b[0m\u001b[0;34m\u001b[0m\u001b[0;34m\u001b[0m\u001b[0m\n\u001b[1;32m   1417\u001b[0m             \u001b[0mshuffle\u001b[0m\u001b[0;34m=\u001b[0m\u001b[0mshuffle\u001b[0m\u001b[0;34m,\u001b[0m\u001b[0;34m\u001b[0m\u001b[0;34m\u001b[0m\u001b[0m\n\u001b[0;32m-> 1418\u001b[0;31m             initial_epoch=initial_epoch)\n\u001b[0m\u001b[1;32m   1419\u001b[0m \u001b[0;34m\u001b[0m\u001b[0m\n\u001b[1;32m   1420\u001b[0m     \u001b[0;34m@\u001b[0m\u001b[0minterfaces\u001b[0m\u001b[0;34m.\u001b[0m\u001b[0mlegacy_generator_methods_support\u001b[0m\u001b[0;34m\u001b[0m\u001b[0;34m\u001b[0m\u001b[0m\n",
      "\u001b[0;32m~/.local/lib/python3.6/site-packages/keras/engine/training_generator.py\u001b[0m in \u001b[0;36mfit_generator\u001b[0;34m(model, generator, steps_per_epoch, epochs, verbose, callbacks, validation_data, validation_steps, class_weight, max_queue_size, workers, use_multiprocessing, shuffle, initial_epoch)\u001b[0m\n\u001b[1;32m    232\u001b[0m                             \u001b[0mval_enqueuer_gen\u001b[0m\u001b[0;34m,\u001b[0m\u001b[0;34m\u001b[0m\u001b[0;34m\u001b[0m\u001b[0m\n\u001b[1;32m    233\u001b[0m                             \u001b[0mvalidation_steps\u001b[0m\u001b[0;34m,\u001b[0m\u001b[0;34m\u001b[0m\u001b[0;34m\u001b[0m\u001b[0m\n\u001b[0;32m--> 234\u001b[0;31m                             workers=0)\n\u001b[0m\u001b[1;32m    235\u001b[0m                     \u001b[0;32melse\u001b[0m\u001b[0;34m:\u001b[0m\u001b[0;34m\u001b[0m\u001b[0;34m\u001b[0m\u001b[0m\n\u001b[1;32m    236\u001b[0m                         \u001b[0;31m# No need for try/except because\u001b[0m\u001b[0;34m\u001b[0m\u001b[0;34m\u001b[0m\u001b[0;34m\u001b[0m\u001b[0m\n",
      "\u001b[0;32m~/.local/lib/python3.6/site-packages/keras/legacy/interfaces.py\u001b[0m in \u001b[0;36mwrapper\u001b[0;34m(*args, **kwargs)\u001b[0m\n\u001b[1;32m     89\u001b[0m                 warnings.warn('Update your `' + object_name + '` call to the ' +\n\u001b[1;32m     90\u001b[0m                               'Keras 2 API: ' + signature, stacklevel=2)\n\u001b[0;32m---> 91\u001b[0;31m             \u001b[0;32mreturn\u001b[0m \u001b[0mfunc\u001b[0m\u001b[0;34m(\u001b[0m\u001b[0;34m*\u001b[0m\u001b[0margs\u001b[0m\u001b[0;34m,\u001b[0m \u001b[0;34m**\u001b[0m\u001b[0mkwargs\u001b[0m\u001b[0;34m)\u001b[0m\u001b[0;34m\u001b[0m\u001b[0;34m\u001b[0m\u001b[0m\n\u001b[0m\u001b[1;32m     92\u001b[0m         \u001b[0mwrapper\u001b[0m\u001b[0;34m.\u001b[0m\u001b[0m_original_function\u001b[0m \u001b[0;34m=\u001b[0m \u001b[0mfunc\u001b[0m\u001b[0;34m\u001b[0m\u001b[0;34m\u001b[0m\u001b[0m\n\u001b[1;32m     93\u001b[0m         \u001b[0;32mreturn\u001b[0m \u001b[0mwrapper\u001b[0m\u001b[0;34m\u001b[0m\u001b[0;34m\u001b[0m\u001b[0m\n",
      "\u001b[0;32m~/.local/lib/python3.6/site-packages/keras/engine/training.py\u001b[0m in \u001b[0;36mevaluate_generator\u001b[0;34m(self, generator, steps, max_queue_size, workers, use_multiprocessing, verbose)\u001b[0m\n\u001b[1;32m   1470\u001b[0m             \u001b[0mworkers\u001b[0m\u001b[0;34m=\u001b[0m\u001b[0mworkers\u001b[0m\u001b[0;34m,\u001b[0m\u001b[0;34m\u001b[0m\u001b[0;34m\u001b[0m\u001b[0m\n\u001b[1;32m   1471\u001b[0m             \u001b[0muse_multiprocessing\u001b[0m\u001b[0;34m=\u001b[0m\u001b[0muse_multiprocessing\u001b[0m\u001b[0;34m,\u001b[0m\u001b[0;34m\u001b[0m\u001b[0;34m\u001b[0m\u001b[0m\n\u001b[0;32m-> 1472\u001b[0;31m             verbose=verbose)\n\u001b[0m\u001b[1;32m   1473\u001b[0m \u001b[0;34m\u001b[0m\u001b[0m\n\u001b[1;32m   1474\u001b[0m     \u001b[0;34m@\u001b[0m\u001b[0minterfaces\u001b[0m\u001b[0;34m.\u001b[0m\u001b[0mlegacy_generator_methods_support\u001b[0m\u001b[0;34m\u001b[0m\u001b[0;34m\u001b[0m\u001b[0m\n",
      "\u001b[0;32m~/.local/lib/python3.6/site-packages/keras/engine/training_generator.py\u001b[0m in \u001b[0;36mevaluate_generator\u001b[0;34m(model, generator, steps, max_queue_size, workers, use_multiprocessing, verbose)\u001b[0m\n\u001b[1;32m    328\u001b[0m \u001b[0;34m\u001b[0m\u001b[0m\n\u001b[1;32m    329\u001b[0m         \u001b[0;32mwhile\u001b[0m \u001b[0msteps_done\u001b[0m \u001b[0;34m<\u001b[0m \u001b[0msteps\u001b[0m\u001b[0;34m:\u001b[0m\u001b[0;34m\u001b[0m\u001b[0;34m\u001b[0m\u001b[0m\n\u001b[0;32m--> 330\u001b[0;31m             \u001b[0mgenerator_output\u001b[0m \u001b[0;34m=\u001b[0m \u001b[0mnext\u001b[0m\u001b[0;34m(\u001b[0m\u001b[0moutput_generator\u001b[0m\u001b[0;34m)\u001b[0m\u001b[0;34m\u001b[0m\u001b[0;34m\u001b[0m\u001b[0m\n\u001b[0m\u001b[1;32m    331\u001b[0m             \u001b[0;32mif\u001b[0m \u001b[0;32mnot\u001b[0m \u001b[0mhasattr\u001b[0m\u001b[0;34m(\u001b[0m\u001b[0mgenerator_output\u001b[0m\u001b[0;34m,\u001b[0m \u001b[0;34m'__len__'\u001b[0m\u001b[0;34m)\u001b[0m\u001b[0;34m:\u001b[0m\u001b[0;34m\u001b[0m\u001b[0;34m\u001b[0m\u001b[0m\n\u001b[1;32m    332\u001b[0m                 raise ValueError('Output of generator should be a tuple '\n",
      "\u001b[0;32m~/.local/lib/python3.6/site-packages/keras/utils/data_utils.py\u001b[0m in \u001b[0;36mget\u001b[0;34m(self)\u001b[0m\n\u001b[1;32m    683\u001b[0m         \u001b[0;32mtry\u001b[0m\u001b[0;34m:\u001b[0m\u001b[0;34m\u001b[0m\u001b[0;34m\u001b[0m\u001b[0m\n\u001b[1;32m    684\u001b[0m             \u001b[0;32mwhile\u001b[0m \u001b[0mself\u001b[0m\u001b[0;34m.\u001b[0m\u001b[0mis_running\u001b[0m\u001b[0;34m(\u001b[0m\u001b[0;34m)\u001b[0m\u001b[0;34m:\u001b[0m\u001b[0;34m\u001b[0m\u001b[0;34m\u001b[0m\u001b[0m\n\u001b[0;32m--> 685\u001b[0;31m                 \u001b[0minputs\u001b[0m \u001b[0;34m=\u001b[0m \u001b[0mself\u001b[0m\u001b[0;34m.\u001b[0m\u001b[0mqueue\u001b[0m\u001b[0;34m.\u001b[0m\u001b[0mget\u001b[0m\u001b[0;34m(\u001b[0m\u001b[0mblock\u001b[0m\u001b[0;34m=\u001b[0m\u001b[0;32mTrue\u001b[0m\u001b[0;34m)\u001b[0m\u001b[0;34m.\u001b[0m\u001b[0mget\u001b[0m\u001b[0;34m(\u001b[0m\u001b[0;34m)\u001b[0m\u001b[0;34m\u001b[0m\u001b[0;34m\u001b[0m\u001b[0m\n\u001b[0m\u001b[1;32m    686\u001b[0m                 \u001b[0mself\u001b[0m\u001b[0;34m.\u001b[0m\u001b[0mqueue\u001b[0m\u001b[0;34m.\u001b[0m\u001b[0mtask_done\u001b[0m\u001b[0;34m(\u001b[0m\u001b[0;34m)\u001b[0m\u001b[0;34m\u001b[0m\u001b[0;34m\u001b[0m\u001b[0m\n\u001b[1;32m    687\u001b[0m                 \u001b[0;32mif\u001b[0m \u001b[0minputs\u001b[0m \u001b[0;32mis\u001b[0m \u001b[0;32mnot\u001b[0m \u001b[0;32mNone\u001b[0m\u001b[0;34m:\u001b[0m\u001b[0;34m\u001b[0m\u001b[0;34m\u001b[0m\u001b[0m\n",
      "\u001b[0;32m/usr/lib/python3.6/multiprocessing/pool.py\u001b[0m in \u001b[0;36mget\u001b[0;34m(self, timeout)\u001b[0m\n\u001b[1;32m    662\u001b[0m \u001b[0;34m\u001b[0m\u001b[0m\n\u001b[1;32m    663\u001b[0m     \u001b[0;32mdef\u001b[0m \u001b[0mget\u001b[0m\u001b[0;34m(\u001b[0m\u001b[0mself\u001b[0m\u001b[0;34m,\u001b[0m \u001b[0mtimeout\u001b[0m\u001b[0;34m=\u001b[0m\u001b[0;32mNone\u001b[0m\u001b[0;34m)\u001b[0m\u001b[0;34m:\u001b[0m\u001b[0;34m\u001b[0m\u001b[0;34m\u001b[0m\u001b[0m\n\u001b[0;32m--> 664\u001b[0;31m         \u001b[0mself\u001b[0m\u001b[0;34m.\u001b[0m\u001b[0mwait\u001b[0m\u001b[0;34m(\u001b[0m\u001b[0mtimeout\u001b[0m\u001b[0;34m)\u001b[0m\u001b[0;34m\u001b[0m\u001b[0;34m\u001b[0m\u001b[0m\n\u001b[0m\u001b[1;32m    665\u001b[0m         \u001b[0;32mif\u001b[0m \u001b[0;32mnot\u001b[0m \u001b[0mself\u001b[0m\u001b[0;34m.\u001b[0m\u001b[0mready\u001b[0m\u001b[0;34m(\u001b[0m\u001b[0;34m)\u001b[0m\u001b[0;34m:\u001b[0m\u001b[0;34m\u001b[0m\u001b[0;34m\u001b[0m\u001b[0m\n\u001b[1;32m    666\u001b[0m             \u001b[0;32mraise\u001b[0m \u001b[0mTimeoutError\u001b[0m\u001b[0;34m\u001b[0m\u001b[0;34m\u001b[0m\u001b[0m\n",
      "\u001b[0;32m/usr/lib/python3.6/multiprocessing/pool.py\u001b[0m in \u001b[0;36mwait\u001b[0;34m(self, timeout)\u001b[0m\n\u001b[1;32m    659\u001b[0m \u001b[0;34m\u001b[0m\u001b[0m\n\u001b[1;32m    660\u001b[0m     \u001b[0;32mdef\u001b[0m \u001b[0mwait\u001b[0m\u001b[0;34m(\u001b[0m\u001b[0mself\u001b[0m\u001b[0;34m,\u001b[0m \u001b[0mtimeout\u001b[0m\u001b[0;34m=\u001b[0m\u001b[0;32mNone\u001b[0m\u001b[0;34m)\u001b[0m\u001b[0;34m:\u001b[0m\u001b[0;34m\u001b[0m\u001b[0;34m\u001b[0m\u001b[0m\n\u001b[0;32m--> 661\u001b[0;31m         \u001b[0mself\u001b[0m\u001b[0;34m.\u001b[0m\u001b[0m_event\u001b[0m\u001b[0;34m.\u001b[0m\u001b[0mwait\u001b[0m\u001b[0;34m(\u001b[0m\u001b[0mtimeout\u001b[0m\u001b[0;34m)\u001b[0m\u001b[0;34m\u001b[0m\u001b[0;34m\u001b[0m\u001b[0m\n\u001b[0m\u001b[1;32m    662\u001b[0m \u001b[0;34m\u001b[0m\u001b[0m\n\u001b[1;32m    663\u001b[0m     \u001b[0;32mdef\u001b[0m \u001b[0mget\u001b[0m\u001b[0;34m(\u001b[0m\u001b[0mself\u001b[0m\u001b[0;34m,\u001b[0m \u001b[0mtimeout\u001b[0m\u001b[0;34m=\u001b[0m\u001b[0;32mNone\u001b[0m\u001b[0;34m)\u001b[0m\u001b[0;34m:\u001b[0m\u001b[0;34m\u001b[0m\u001b[0;34m\u001b[0m\u001b[0m\n",
      "\u001b[0;32m/usr/lib/python3.6/threading.py\u001b[0m in \u001b[0;36mwait\u001b[0;34m(self, timeout)\u001b[0m\n\u001b[1;32m    549\u001b[0m             \u001b[0msignaled\u001b[0m \u001b[0;34m=\u001b[0m \u001b[0mself\u001b[0m\u001b[0;34m.\u001b[0m\u001b[0m_flag\u001b[0m\u001b[0;34m\u001b[0m\u001b[0;34m\u001b[0m\u001b[0m\n\u001b[1;32m    550\u001b[0m             \u001b[0;32mif\u001b[0m \u001b[0;32mnot\u001b[0m \u001b[0msignaled\u001b[0m\u001b[0;34m:\u001b[0m\u001b[0;34m\u001b[0m\u001b[0;34m\u001b[0m\u001b[0m\n\u001b[0;32m--> 551\u001b[0;31m                 \u001b[0msignaled\u001b[0m \u001b[0;34m=\u001b[0m \u001b[0mself\u001b[0m\u001b[0;34m.\u001b[0m\u001b[0m_cond\u001b[0m\u001b[0;34m.\u001b[0m\u001b[0mwait\u001b[0m\u001b[0;34m(\u001b[0m\u001b[0mtimeout\u001b[0m\u001b[0;34m)\u001b[0m\u001b[0;34m\u001b[0m\u001b[0;34m\u001b[0m\u001b[0m\n\u001b[0m\u001b[1;32m    552\u001b[0m             \u001b[0;32mreturn\u001b[0m \u001b[0msignaled\u001b[0m\u001b[0;34m\u001b[0m\u001b[0;34m\u001b[0m\u001b[0m\n\u001b[1;32m    553\u001b[0m \u001b[0;34m\u001b[0m\u001b[0m\n",
      "\u001b[0;32m/usr/lib/python3.6/threading.py\u001b[0m in \u001b[0;36mwait\u001b[0;34m(self, timeout)\u001b[0m\n\u001b[1;32m    293\u001b[0m         \u001b[0;32mtry\u001b[0m\u001b[0;34m:\u001b[0m    \u001b[0;31m# restore state no matter what (e.g., KeyboardInterrupt)\u001b[0m\u001b[0;34m\u001b[0m\u001b[0;34m\u001b[0m\u001b[0m\n\u001b[1;32m    294\u001b[0m             \u001b[0;32mif\u001b[0m \u001b[0mtimeout\u001b[0m \u001b[0;32mis\u001b[0m \u001b[0;32mNone\u001b[0m\u001b[0;34m:\u001b[0m\u001b[0;34m\u001b[0m\u001b[0;34m\u001b[0m\u001b[0m\n\u001b[0;32m--> 295\u001b[0;31m                 \u001b[0mwaiter\u001b[0m\u001b[0;34m.\u001b[0m\u001b[0macquire\u001b[0m\u001b[0;34m(\u001b[0m\u001b[0;34m)\u001b[0m\u001b[0;34m\u001b[0m\u001b[0;34m\u001b[0m\u001b[0m\n\u001b[0m\u001b[1;32m    296\u001b[0m                 \u001b[0mgotit\u001b[0m \u001b[0;34m=\u001b[0m \u001b[0;32mTrue\u001b[0m\u001b[0;34m\u001b[0m\u001b[0;34m\u001b[0m\u001b[0m\n\u001b[1;32m    297\u001b[0m             \u001b[0;32melse\u001b[0m\u001b[0;34m:\u001b[0m\u001b[0;34m\u001b[0m\u001b[0;34m\u001b[0m\u001b[0m\n",
      "\u001b[0;31mKeyboardInterrupt\u001b[0m: "
     ]
    }
   ],
   "source": [
    "from keras.models import Sequential\n",
    "from keras import layers\n",
    "\n",
    "model = Sequential()\n",
    "model.add(layers.Flatten(input_shape=(lookback // step, float_data.shape[-1])))\n",
    "model.add(layers.Dense(32, activation='relu'))\n",
    "model.add(layers.Dense(1))\n",
    "\n",
    "model.compile(optimizer='rmsprop', loss='mae')\n",
    "history = model.fit_generator(\n",
    "    train_gen, \n",
    "    steps_per_epoch=500, \n",
    "    epochs=20, \n",
    "    validation_data=val_gen, \n",
    "    validation_steps=val_steps\n",
    ")"
   ]
  },
  {
   "cell_type": "code",
   "execution_count": null,
   "metadata": {},
   "outputs": [],
   "source": [
    "plot_accuracy_loss(history)"
   ]
  },
  {
   "cell_type": "markdown",
   "metadata": {},
   "source": [
    "### 3.3 RNN baseline\n",
    "\n",
    "The previous approach first flattened the timeseries, which removed the notion of time from the input data. Now we look at the input data as a sequence by using a basic GRU layer (streamlined and cheater but less representational power compared to LSTM). "
   ]
  },
  {
   "cell_type": "code",
   "execution_count": 31,
   "metadata": {},
   "outputs": [
    {
     "name": "stdout",
     "output_type": "stream",
     "text": [
      "Epoch 1/20\n",
      "499/500 [============================>.] - ETA: 0s - loss: 0.3032"
     ]
    },
    {
     "ename": "KeyboardInterrupt",
     "evalue": "",
     "output_type": "error",
     "traceback": [
      "\u001b[0;31m---------------------------------------------------------------------\u001b[0m",
      "\u001b[0;31mKeyboardInterrupt\u001b[0m                   Traceback (most recent call last)",
      "\u001b[0;32m<ipython-input-31-49968fb7d157>\u001b[0m in \u001b[0;36m<module>\u001b[0;34m()\u001b[0m\n\u001b[1;32m     13\u001b[0m     \u001b[0mepochs\u001b[0m\u001b[0;34m=\u001b[0m\u001b[0;36m20\u001b[0m\u001b[0;34m,\u001b[0m\u001b[0;34m\u001b[0m\u001b[0;34m\u001b[0m\u001b[0m\n\u001b[1;32m     14\u001b[0m     \u001b[0mvalidation_data\u001b[0m\u001b[0;34m=\u001b[0m\u001b[0mval_gen\u001b[0m\u001b[0;34m,\u001b[0m\u001b[0;34m\u001b[0m\u001b[0;34m\u001b[0m\u001b[0m\n\u001b[0;32m---> 15\u001b[0;31m     \u001b[0mvalidation_steps\u001b[0m\u001b[0;34m=\u001b[0m\u001b[0mval_steps\u001b[0m\u001b[0;34m\u001b[0m\u001b[0;34m\u001b[0m\u001b[0m\n\u001b[0m\u001b[1;32m     16\u001b[0m )\n",
      "\u001b[0;32m~/.local/lib/python3.6/site-packages/keras/legacy/interfaces.py\u001b[0m in \u001b[0;36mwrapper\u001b[0;34m(*args, **kwargs)\u001b[0m\n\u001b[1;32m     89\u001b[0m                 warnings.warn('Update your `' + object_name + '` call to the ' +\n\u001b[1;32m     90\u001b[0m                               'Keras 2 API: ' + signature, stacklevel=2)\n\u001b[0;32m---> 91\u001b[0;31m             \u001b[0;32mreturn\u001b[0m \u001b[0mfunc\u001b[0m\u001b[0;34m(\u001b[0m\u001b[0;34m*\u001b[0m\u001b[0margs\u001b[0m\u001b[0;34m,\u001b[0m \u001b[0;34m**\u001b[0m\u001b[0mkwargs\u001b[0m\u001b[0;34m)\u001b[0m\u001b[0;34m\u001b[0m\u001b[0;34m\u001b[0m\u001b[0m\n\u001b[0m\u001b[1;32m     92\u001b[0m         \u001b[0mwrapper\u001b[0m\u001b[0;34m.\u001b[0m\u001b[0m_original_function\u001b[0m \u001b[0;34m=\u001b[0m \u001b[0mfunc\u001b[0m\u001b[0;34m\u001b[0m\u001b[0;34m\u001b[0m\u001b[0m\n\u001b[1;32m     93\u001b[0m         \u001b[0;32mreturn\u001b[0m \u001b[0mwrapper\u001b[0m\u001b[0;34m\u001b[0m\u001b[0;34m\u001b[0m\u001b[0m\n",
      "\u001b[0;32m~/.local/lib/python3.6/site-packages/keras/engine/training.py\u001b[0m in \u001b[0;36mfit_generator\u001b[0;34m(self, generator, steps_per_epoch, epochs, verbose, callbacks, validation_data, validation_steps, class_weight, max_queue_size, workers, use_multiprocessing, shuffle, initial_epoch)\u001b[0m\n\u001b[1;32m   1416\u001b[0m             \u001b[0muse_multiprocessing\u001b[0m\u001b[0;34m=\u001b[0m\u001b[0muse_multiprocessing\u001b[0m\u001b[0;34m,\u001b[0m\u001b[0;34m\u001b[0m\u001b[0;34m\u001b[0m\u001b[0m\n\u001b[1;32m   1417\u001b[0m             \u001b[0mshuffle\u001b[0m\u001b[0;34m=\u001b[0m\u001b[0mshuffle\u001b[0m\u001b[0;34m,\u001b[0m\u001b[0;34m\u001b[0m\u001b[0;34m\u001b[0m\u001b[0m\n\u001b[0;32m-> 1418\u001b[0;31m             initial_epoch=initial_epoch)\n\u001b[0m\u001b[1;32m   1419\u001b[0m \u001b[0;34m\u001b[0m\u001b[0m\n\u001b[1;32m   1420\u001b[0m     \u001b[0;34m@\u001b[0m\u001b[0minterfaces\u001b[0m\u001b[0;34m.\u001b[0m\u001b[0mlegacy_generator_methods_support\u001b[0m\u001b[0;34m\u001b[0m\u001b[0;34m\u001b[0m\u001b[0m\n",
      "\u001b[0;32m~/.local/lib/python3.6/site-packages/keras/engine/training_generator.py\u001b[0m in \u001b[0;36mfit_generator\u001b[0;34m(model, generator, steps_per_epoch, epochs, verbose, callbacks, validation_data, validation_steps, class_weight, max_queue_size, workers, use_multiprocessing, shuffle, initial_epoch)\u001b[0m\n\u001b[1;32m    232\u001b[0m                             \u001b[0mval_enqueuer_gen\u001b[0m\u001b[0;34m,\u001b[0m\u001b[0;34m\u001b[0m\u001b[0;34m\u001b[0m\u001b[0m\n\u001b[1;32m    233\u001b[0m                             \u001b[0mvalidation_steps\u001b[0m\u001b[0;34m,\u001b[0m\u001b[0;34m\u001b[0m\u001b[0;34m\u001b[0m\u001b[0m\n\u001b[0;32m--> 234\u001b[0;31m                             workers=0)\n\u001b[0m\u001b[1;32m    235\u001b[0m                     \u001b[0;32melse\u001b[0m\u001b[0;34m:\u001b[0m\u001b[0;34m\u001b[0m\u001b[0;34m\u001b[0m\u001b[0m\n\u001b[1;32m    236\u001b[0m                         \u001b[0;31m# No need for try/except because\u001b[0m\u001b[0;34m\u001b[0m\u001b[0;34m\u001b[0m\u001b[0;34m\u001b[0m\u001b[0m\n",
      "\u001b[0;32m~/.local/lib/python3.6/site-packages/keras/legacy/interfaces.py\u001b[0m in \u001b[0;36mwrapper\u001b[0;34m(*args, **kwargs)\u001b[0m\n\u001b[1;32m     89\u001b[0m                 warnings.warn('Update your `' + object_name + '` call to the ' +\n\u001b[1;32m     90\u001b[0m                               'Keras 2 API: ' + signature, stacklevel=2)\n\u001b[0;32m---> 91\u001b[0;31m             \u001b[0;32mreturn\u001b[0m \u001b[0mfunc\u001b[0m\u001b[0;34m(\u001b[0m\u001b[0;34m*\u001b[0m\u001b[0margs\u001b[0m\u001b[0;34m,\u001b[0m \u001b[0;34m**\u001b[0m\u001b[0mkwargs\u001b[0m\u001b[0;34m)\u001b[0m\u001b[0;34m\u001b[0m\u001b[0;34m\u001b[0m\u001b[0m\n\u001b[0m\u001b[1;32m     92\u001b[0m         \u001b[0mwrapper\u001b[0m\u001b[0;34m.\u001b[0m\u001b[0m_original_function\u001b[0m \u001b[0;34m=\u001b[0m \u001b[0mfunc\u001b[0m\u001b[0;34m\u001b[0m\u001b[0;34m\u001b[0m\u001b[0m\n\u001b[1;32m     93\u001b[0m         \u001b[0;32mreturn\u001b[0m \u001b[0mwrapper\u001b[0m\u001b[0;34m\u001b[0m\u001b[0;34m\u001b[0m\u001b[0m\n",
      "\u001b[0;32m~/.local/lib/python3.6/site-packages/keras/engine/training.py\u001b[0m in \u001b[0;36mevaluate_generator\u001b[0;34m(self, generator, steps, max_queue_size, workers, use_multiprocessing, verbose)\u001b[0m\n\u001b[1;32m   1470\u001b[0m             \u001b[0mworkers\u001b[0m\u001b[0;34m=\u001b[0m\u001b[0mworkers\u001b[0m\u001b[0;34m,\u001b[0m\u001b[0;34m\u001b[0m\u001b[0;34m\u001b[0m\u001b[0m\n\u001b[1;32m   1471\u001b[0m             \u001b[0muse_multiprocessing\u001b[0m\u001b[0;34m=\u001b[0m\u001b[0muse_multiprocessing\u001b[0m\u001b[0;34m,\u001b[0m\u001b[0;34m\u001b[0m\u001b[0;34m\u001b[0m\u001b[0m\n\u001b[0;32m-> 1472\u001b[0;31m             verbose=verbose)\n\u001b[0m\u001b[1;32m   1473\u001b[0m \u001b[0;34m\u001b[0m\u001b[0m\n\u001b[1;32m   1474\u001b[0m     \u001b[0;34m@\u001b[0m\u001b[0minterfaces\u001b[0m\u001b[0;34m.\u001b[0m\u001b[0mlegacy_generator_methods_support\u001b[0m\u001b[0;34m\u001b[0m\u001b[0;34m\u001b[0m\u001b[0m\n",
      "\u001b[0;32m~/.local/lib/python3.6/site-packages/keras/engine/training_generator.py\u001b[0m in \u001b[0;36mevaluate_generator\u001b[0;34m(model, generator, steps, max_queue_size, workers, use_multiprocessing, verbose)\u001b[0m\n\u001b[1;32m    344\u001b[0m                                  \u001b[0;34m'or (x, y). Found: '\u001b[0m \u001b[0;34m+\u001b[0m\u001b[0;34m\u001b[0m\u001b[0;34m\u001b[0m\u001b[0m\n\u001b[1;32m    345\u001b[0m                                  str(generator_output))\n\u001b[0;32m--> 346\u001b[0;31m             \u001b[0mouts\u001b[0m \u001b[0;34m=\u001b[0m \u001b[0mmodel\u001b[0m\u001b[0;34m.\u001b[0m\u001b[0mtest_on_batch\u001b[0m\u001b[0;34m(\u001b[0m\u001b[0mx\u001b[0m\u001b[0;34m,\u001b[0m \u001b[0my\u001b[0m\u001b[0;34m,\u001b[0m \u001b[0msample_weight\u001b[0m\u001b[0;34m=\u001b[0m\u001b[0msample_weight\u001b[0m\u001b[0;34m)\u001b[0m\u001b[0;34m\u001b[0m\u001b[0;34m\u001b[0m\u001b[0m\n\u001b[0m\u001b[1;32m    347\u001b[0m             \u001b[0mouts\u001b[0m \u001b[0;34m=\u001b[0m \u001b[0mto_list\u001b[0m\u001b[0;34m(\u001b[0m\u001b[0mouts\u001b[0m\u001b[0;34m)\u001b[0m\u001b[0;34m\u001b[0m\u001b[0;34m\u001b[0m\u001b[0m\n\u001b[1;32m    348\u001b[0m             \u001b[0mouts_per_batch\u001b[0m\u001b[0;34m.\u001b[0m\u001b[0mappend\u001b[0m\u001b[0;34m(\u001b[0m\u001b[0mouts\u001b[0m\u001b[0;34m)\u001b[0m\u001b[0;34m\u001b[0m\u001b[0;34m\u001b[0m\u001b[0m\n",
      "\u001b[0;32m~/.local/lib/python3.6/site-packages/keras/engine/training.py\u001b[0m in \u001b[0;36mtest_on_batch\u001b[0;34m(self, x, y, sample_weight)\u001b[0m\n\u001b[1;32m   1254\u001b[0m             \u001b[0mins\u001b[0m \u001b[0;34m=\u001b[0m \u001b[0mx\u001b[0m \u001b[0;34m+\u001b[0m \u001b[0my\u001b[0m \u001b[0;34m+\u001b[0m \u001b[0msample_weights\u001b[0m\u001b[0;34m\u001b[0m\u001b[0;34m\u001b[0m\u001b[0m\n\u001b[1;32m   1255\u001b[0m         \u001b[0mself\u001b[0m\u001b[0;34m.\u001b[0m\u001b[0m_make_test_function\u001b[0m\u001b[0;34m(\u001b[0m\u001b[0;34m)\u001b[0m\u001b[0;34m\u001b[0m\u001b[0;34m\u001b[0m\u001b[0m\n\u001b[0;32m-> 1256\u001b[0;31m         \u001b[0moutputs\u001b[0m \u001b[0;34m=\u001b[0m \u001b[0mself\u001b[0m\u001b[0;34m.\u001b[0m\u001b[0mtest_function\u001b[0m\u001b[0;34m(\u001b[0m\u001b[0mins\u001b[0m\u001b[0;34m)\u001b[0m\u001b[0;34m\u001b[0m\u001b[0;34m\u001b[0m\u001b[0m\n\u001b[0m\u001b[1;32m   1257\u001b[0m         \u001b[0;32mreturn\u001b[0m \u001b[0munpack_singleton\u001b[0m\u001b[0;34m(\u001b[0m\u001b[0moutputs\u001b[0m\u001b[0;34m)\u001b[0m\u001b[0;34m\u001b[0m\u001b[0;34m\u001b[0m\u001b[0m\n\u001b[1;32m   1258\u001b[0m \u001b[0;34m\u001b[0m\u001b[0m\n",
      "\u001b[0;32m~/.local/lib/python3.6/site-packages/keras/backend/tensorflow_backend.py\u001b[0m in \u001b[0;36m__call__\u001b[0;34m(self, inputs)\u001b[0m\n\u001b[1;32m   2713\u001b[0m                 \u001b[0;32mreturn\u001b[0m \u001b[0mself\u001b[0m\u001b[0;34m.\u001b[0m\u001b[0m_legacy_call\u001b[0m\u001b[0;34m(\u001b[0m\u001b[0minputs\u001b[0m\u001b[0;34m)\u001b[0m\u001b[0;34m\u001b[0m\u001b[0;34m\u001b[0m\u001b[0m\n\u001b[1;32m   2714\u001b[0m \u001b[0;34m\u001b[0m\u001b[0m\n\u001b[0;32m-> 2715\u001b[0;31m             \u001b[0;32mreturn\u001b[0m \u001b[0mself\u001b[0m\u001b[0;34m.\u001b[0m\u001b[0m_call\u001b[0m\u001b[0;34m(\u001b[0m\u001b[0minputs\u001b[0m\u001b[0;34m)\u001b[0m\u001b[0;34m\u001b[0m\u001b[0;34m\u001b[0m\u001b[0m\n\u001b[0m\u001b[1;32m   2716\u001b[0m         \u001b[0;32melse\u001b[0m\u001b[0;34m:\u001b[0m\u001b[0;34m\u001b[0m\u001b[0;34m\u001b[0m\u001b[0m\n\u001b[1;32m   2717\u001b[0m             \u001b[0;32mif\u001b[0m \u001b[0mpy_any\u001b[0m\u001b[0;34m(\u001b[0m\u001b[0mis_tensor\u001b[0m\u001b[0;34m(\u001b[0m\u001b[0mx\u001b[0m\u001b[0;34m)\u001b[0m \u001b[0;32mfor\u001b[0m \u001b[0mx\u001b[0m \u001b[0;32min\u001b[0m \u001b[0minputs\u001b[0m\u001b[0;34m)\u001b[0m\u001b[0;34m:\u001b[0m\u001b[0;34m\u001b[0m\u001b[0;34m\u001b[0m\u001b[0m\n",
      "\u001b[0;32m~/.local/lib/python3.6/site-packages/keras/backend/tensorflow_backend.py\u001b[0m in \u001b[0;36m_call\u001b[0;34m(self, inputs)\u001b[0m\n\u001b[1;32m   2673\u001b[0m             \u001b[0mfetched\u001b[0m \u001b[0;34m=\u001b[0m \u001b[0mself\u001b[0m\u001b[0;34m.\u001b[0m\u001b[0m_callable_fn\u001b[0m\u001b[0;34m(\u001b[0m\u001b[0;34m*\u001b[0m\u001b[0marray_vals\u001b[0m\u001b[0;34m,\u001b[0m \u001b[0mrun_metadata\u001b[0m\u001b[0;34m=\u001b[0m\u001b[0mself\u001b[0m\u001b[0;34m.\u001b[0m\u001b[0mrun_metadata\u001b[0m\u001b[0;34m)\u001b[0m\u001b[0;34m\u001b[0m\u001b[0;34m\u001b[0m\u001b[0m\n\u001b[1;32m   2674\u001b[0m         \u001b[0;32melse\u001b[0m\u001b[0;34m:\u001b[0m\u001b[0;34m\u001b[0m\u001b[0;34m\u001b[0m\u001b[0m\n\u001b[0;32m-> 2675\u001b[0;31m             \u001b[0mfetched\u001b[0m \u001b[0;34m=\u001b[0m \u001b[0mself\u001b[0m\u001b[0;34m.\u001b[0m\u001b[0m_callable_fn\u001b[0m\u001b[0;34m(\u001b[0m\u001b[0;34m*\u001b[0m\u001b[0marray_vals\u001b[0m\u001b[0;34m)\u001b[0m\u001b[0;34m\u001b[0m\u001b[0;34m\u001b[0m\u001b[0m\n\u001b[0m\u001b[1;32m   2676\u001b[0m         \u001b[0;32mreturn\u001b[0m \u001b[0mfetched\u001b[0m\u001b[0;34m[\u001b[0m\u001b[0;34m:\u001b[0m\u001b[0mlen\u001b[0m\u001b[0;34m(\u001b[0m\u001b[0mself\u001b[0m\u001b[0;34m.\u001b[0m\u001b[0moutputs\u001b[0m\u001b[0;34m)\u001b[0m\u001b[0;34m]\u001b[0m\u001b[0;34m\u001b[0m\u001b[0;34m\u001b[0m\u001b[0m\n\u001b[1;32m   2677\u001b[0m \u001b[0;34m\u001b[0m\u001b[0m\n",
      "\u001b[0;32m~/.local/lib/python3.6/site-packages/tensorflow/python/client/session.py\u001b[0m in \u001b[0;36m__call__\u001b[0;34m(self, *args, **kwargs)\u001b[0m\n\u001b[1;32m   1397\u001b[0m           ret = tf_session.TF_SessionRunCallable(\n\u001b[1;32m   1398\u001b[0m               \u001b[0mself\u001b[0m\u001b[0;34m.\u001b[0m\u001b[0m_session\u001b[0m\u001b[0;34m.\u001b[0m\u001b[0m_session\u001b[0m\u001b[0;34m,\u001b[0m \u001b[0mself\u001b[0m\u001b[0;34m.\u001b[0m\u001b[0m_handle\u001b[0m\u001b[0;34m,\u001b[0m \u001b[0margs\u001b[0m\u001b[0;34m,\u001b[0m \u001b[0mstatus\u001b[0m\u001b[0;34m,\u001b[0m\u001b[0;34m\u001b[0m\u001b[0;34m\u001b[0m\u001b[0m\n\u001b[0;32m-> 1399\u001b[0;31m               run_metadata_ptr)\n\u001b[0m\u001b[1;32m   1400\u001b[0m         \u001b[0;32mif\u001b[0m \u001b[0mrun_metadata\u001b[0m\u001b[0;34m:\u001b[0m\u001b[0;34m\u001b[0m\u001b[0;34m\u001b[0m\u001b[0m\n\u001b[1;32m   1401\u001b[0m           \u001b[0mproto_data\u001b[0m \u001b[0;34m=\u001b[0m \u001b[0mtf_session\u001b[0m\u001b[0;34m.\u001b[0m\u001b[0mTF_GetBuffer\u001b[0m\u001b[0;34m(\u001b[0m\u001b[0mrun_metadata_ptr\u001b[0m\u001b[0;34m)\u001b[0m\u001b[0;34m\u001b[0m\u001b[0;34m\u001b[0m\u001b[0m\n",
      "\u001b[0;31mKeyboardInterrupt\u001b[0m: "
     ]
    }
   ],
   "source": [
    "from keras.models import Sequential\n",
    "from keras.layers import GRU, Dense\n",
    "from keras.optimizers import RMSprop\n",
    "\n",
    "model = Sequential()\n",
    "model.add(GRU(32, input_shape=(None, float_data.shape[-1])))\n",
    "model.add(Dense(1))\n",
    "\n",
    "model.compile(optimizer=RMSprop(), loss='mae')\n",
    "history = model.fit_generator(\n",
    "    train_gen, \n",
    "    steps_per_epoch=500, \n",
    "    epochs=20, \n",
    "    validation_data=val_gen, \n",
    "    validation_steps=val_steps\n",
    ")"
   ]
  },
  {
   "cell_type": "code",
   "execution_count": null,
   "metadata": {},
   "outputs": [],
   "source": [
    "plot_accuracy_loss(history)"
   ]
  },
  {
   "cell_type": "markdown",
   "metadata": {},
   "source": [
    "## 4.0 Improvements"
   ]
  },
  {
   "cell_type": "markdown",
   "metadata": {},
   "source": [
    "### 4.1 Add dropout to fight overfitting\n",
    "\n",
    "The proper way to use dropout with an RNN is to apply the same dropout mask to the model at every timestep. This allows the network to properly progate its learning error through time. Every recurrent layer in Keras has two dropout-related arguments: `dropout`, a float specifying the dropout rate for input units of the layer, and `recurrent_dropout`, specifying the dropout rate of the recurrent units. "
   ]
  },
  {
   "cell_type": "code",
   "execution_count": null,
   "metadata": {},
   "outputs": [],
   "source": [
    "from keras.models import Sequential\n",
    "from keras.layers import GRU, Dense\n",
    "from keras.optimizer import RMSprop\n",
    "\n",
    "model = Sequential()\n",
    "model.add(GRU(32, dropout=0.2, recurrent_dropout=0.2, input_shape=(None, float_data.shape[-1])))\n",
    "model.add(Dense(1))\n",
    "\n",
    "model.compile(optimizer=RMSprop(), loss='mae')\n",
    "history = model.fit_generator(\n",
    "    train_gen\n",
    "    steps_per_epoch=500,\n",
    "    epochs=40,\n",
    "    validation_data=val_gen,\n",
    "    validation_steps=val_steps\n",
    ")"
   ]
  },
  {
   "cell_type": "code",
   "execution_count": null,
   "metadata": {},
   "outputs": [],
   "source": [
    "plot_accuracy_loss(history)"
   ]
  },
  {
   "cell_type": "markdown",
   "metadata": {},
   "source": [
    "### 4.2 Stacking GRU layers\n",
    "\n",
    "It's generally a good idea to increase the capacity of your network until overfitting becomes the primary obstacle."
   ]
  },
  {
   "cell_type": "code",
   "execution_count": null,
   "metadata": {},
   "outputs": [],
   "source": [
    "from keras.models import Sequential\n",
    "from keras.layers import GRU, Dense\n",
    "from keras.optimizer import RMSprop\n",
    "\n",
    "model = Sequential()\n",
    "model.add(GRU(32, dropout=0.2, recurrent_dropout=0.2, input_shape=(None, float_data.shape[-1])))\n",
    "model.add(GRU(64, dropout=0.1, recurrent_dropout=0.5, activation='relu'))\n",
    "model.add(Dense(1))\n",
    "\n",
    "model.compile(optimizer=RMSprop(), loss='mae')\n",
    "history = model.fit_generator(\n",
    "    train_gen\n",
    "    steps_per_epoch=500,\n",
    "    epochs=40,\n",
    "    validation_data=val_gen,\n",
    "    validation_steps=val_steps\n",
    ")"
   ]
  },
  {
   "cell_type": "code",
   "execution_count": null,
   "metadata": {},
   "outputs": [],
   "source": [
    "plot_accuracy_loss(history)"
   ]
  },
  {
   "cell_type": "markdown",
   "metadata": {},
   "source": [
    "### 4.3 Bidirectional RNN\n",
    "\n",
    "A bidirectional RNN is a common RNN variant that can offer greater performance than a regular RNN on certain tasks. It is frequently used in NLP.\n",
    "\n",
    "RNNs are notably order dependent, that is, they process timesteps of their input sequences in order, and shuffling or reversing the timesteps can completely change the representations the RNN extracts from the sequence. A bidirectional RNN exploits the order sensitivity of RNN -- it consists of using two regular RNNs, such as the `GRU` and `LSTM` layers, each of which processes the input sequence in one direction and then merging their representations. By processing a sequence both ways, a bidirectional RNN can catch patterns that may  be overlooked by a unidirectional RNN."
   ]
  },
  {
   "cell_type": "code",
   "execution_count": null,
   "metadata": {},
   "outputs": [],
   "source": [
    "from keras.models import Sequential\n",
    "from keras.layers import GRU, Dense, Embedding, Bidirectional \n",
    "from keras.optimizer import RMSprop\n",
    "\n",
    "model = Sequential()\n",
    "model.add(Bidirectional(GRU(32), input_shape=(None, float_data.shape[-1])))\n",
    "model.add(Dense(1))\n",
    "\n",
    "model.compile(optimizer=RMSprop(), loss='mae')\n",
    "history = model.fit_generator(\n",
    "    train_gen\n",
    "    steps_per_epoch=500,\n",
    "    epochs=40,\n",
    "    validation_data=val_gen,\n",
    "    validation_steps=val_steps\n",
    ")"
   ]
  },
  {
   "cell_type": "markdown",
   "metadata": {},
   "source": [
    "### 5.0 Further improvements\n",
    "\n",
    "There are many thing we could try at this point to further improve performance on the temperature-forecasting problem:\n",
    "\n",
    "1. Adjust the number of units in each recurrent layer in the stack setup.\n",
    "2. Adjust the learning rate of `RMSprop` optimizer.\n",
    "3. Try `LSTM` instead of `GRU`.\n",
    "4. Try using a bigger `Dense` layer or even a stack `Dense` layers."
   ]
  },
  {
   "cell_type": "markdown",
   "metadata": {},
   "source": [
    "## 6.0 Lessons\n",
    "\n",
    "1. When approaching a new problem, it's good to first establish common-sense baselines for your metric of choice.\n",
    "2. Try simple models before expensive ones.\n",
    "3. RNNs are a great fit for sequential data.\n",
    "4. To use dropout with recurrent networks, you should use a time-constant dropout mask and recurrent dropout mask.\n",
    "5. Stacked RNNs provide more representational power but are much more expensive to train.\n",
    "6. Bidirectional RNNs exploit the order sensitivity of RNN and are widely used in NLP."
   ]
  }
 ],
 "metadata": {
  "kernelspec": {
   "display_name": "Python 3",
   "language": "python",
   "name": "python3"
  },
  "language_info": {
   "codemirror_mode": {
    "name": "ipython",
    "version": 3
   },
   "file_extension": ".py",
   "mimetype": "text/x-python",
   "name": "python",
   "nbconvert_exporter": "python",
   "pygments_lexer": "ipython3",
   "version": "3.6.7"
  }
 },
 "nbformat": 4,
 "nbformat_minor": 2
}

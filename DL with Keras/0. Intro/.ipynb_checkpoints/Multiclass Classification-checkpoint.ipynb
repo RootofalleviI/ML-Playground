{
 "cells": [
  {
   "cell_type": "markdown",
   "metadata": {},
   "source": [
    "# Multiclass Classification"
   ]
  },
  {
   "cell_type": "markdown",
   "metadata": {},
   "source": [
    "### Import data"
   ]
  },
  {
   "cell_type": "code",
   "execution_count": 1,
   "metadata": {},
   "outputs": [
    {
     "name": "stderr",
     "output_type": "stream",
     "text": [
      "Using TensorFlow backend.\n"
     ]
    }
   ],
   "source": [
    "from keras.datasets import reuters\n",
    "\n",
    "(train_data, train_labels), (test_data, test_labels) = reuters.load_data(num_words=10000)"
   ]
  },
  {
   "cell_type": "code",
   "execution_count": 2,
   "metadata": {},
   "outputs": [
    {
     "name": "stdout",
     "output_type": "stream",
     "text": [
      "Length of train data: 8982\n",
      "Length of test data: 2246\n"
     ]
    }
   ],
   "source": [
    "print(\"Length of train data:\", len(train_data))\n",
    "print(\"Length of test data:\", len(test_data))"
   ]
  },
  {
   "cell_type": "code",
   "execution_count": 3,
   "metadata": {},
   "outputs": [
    {
     "name": "stdout",
     "output_type": "stream",
     "text": [
      "11th newswire (encoded):\n",
      "[1, 245, 273, 207, 156, 53, 74, 160, 26, 14, 46, 296, 26, 39, 74, 2979, 3554, 14, 46, 4689, 4329, 86, 61, 3499, 4795, 14, 61, 451, 4329, 17, 12]\n",
      "\n",
      "11th newswire (decoded):\n",
      "? period ended december 31 shr profit 11 cts vs loss 24 cts net profit 224 271 vs loss 511 349 revs 7 258 688 vs 7 200 349 reuter 3\n"
     ]
    }
   ],
   "source": [
    "## Take a look at our data\n",
    "\n",
    "# Print an encoded comment\n",
    "print(\"11th newswire (encoded):\", train_data[10], sep='\\n', end='\\n\\n') \n",
    "\n",
    "# Print a decoded comment\n",
    "word_index = reuters.get_word_index() \n",
    "reverse_word_index = dict([(v, k) for (k, v) in word_index.items()])\n",
    "decoded_newswire = ' '.join([reverse_word_index.get(i-3, '?') for i in train_data[10]]) # Remark 1\n",
    "print(\"11th newswire (decoded):\", decoded_newswire, sep='\\n')\n",
    "\n",
    "\n",
    "# Remark 1: Indices are offset by 3 because 0, 1, and 2 are reserved indices for \"padding\", \"start of sequence\", and \"unknown\".\n",
    "# - The first `?` is translated from a 1, the start token; \n",
    "# - The `?` between `jane` and `satirical` corresponds to a 2, an unknown word (not one of the most 10,000 frequently occurred words)."
   ]
  },
  {
   "cell_type": "markdown",
   "metadata": {},
   "source": [
    "### Preparing the data"
   ]
  },
  {
   "cell_type": "code",
   "execution_count": 4,
   "metadata": {},
   "outputs": [],
   "source": [
    "import numpy as np\n",
    "\n",
    "def onehot_encode(seq, dim=10000):\n",
    "    results = np.zeros((len(seq), dim))\n",
    "    for i, seq in enumerate(seq):\n",
    "        results[i, seq] = 1\n",
    "    return results\n",
    "\n",
    "x_train = onehot_encode(train_data)\n",
    "x_test = onehot_encode(test_data)"
   ]
  },
  {
   "cell_type": "code",
   "execution_count": 5,
   "metadata": {},
   "outputs": [],
   "source": [
    "def onehot_label(labels, dim=46):\n",
    "    results = np.zeros((len(labels), dim))\n",
    "    for i, label in enumerate(labels):\n",
    "        results[i, label] = 1\n",
    "    return results\n",
    "\n",
    "y_train = onehot_label(train_labels)\n",
    "y_test = onehot_label(test_labels)"
   ]
  },
  {
   "cell_type": "code",
   "execution_count": 6,
   "metadata": {},
   "outputs": [],
   "source": [
    "# As a remark, Keras has a built-in `to_categorical` function:\n",
    "\n",
    "# from keras.utils.np_utils import to_categorical\n",
    "# y_train = to_categorical(train_labels)\n",
    "# y_test = to_categorical(test_labels)"
   ]
  },
  {
   "cell_type": "code",
   "execution_count": 7,
   "metadata": {},
   "outputs": [],
   "source": [
    "# There is another way to encode the labels -- cast them as an integer tensor.\n",
    "\n",
    "# y_train = np.array(train_labels)\n",
    "# y_test = np.array(test_labels)\n",
    "\n",
    "# The difference is instead of categorical_crossentropy, we would use sparse_categorical_crossentropy,\n",
    "# which is basically the same thing but with a different interface.\n",
    "\n",
    "# model.compile(\n",
    "#     optimizer='rmsprop',\n",
    "#     loss='sparse_categorical_crossentropy',\n",
    "#     metrics=['accuracy']\n",
    "# )"
   ]
  },
  {
   "cell_type": "markdown",
   "metadata": {},
   "source": [
    "### Construct the model"
   ]
  },
  {
   "cell_type": "code",
   "execution_count": 8,
   "metadata": {},
   "outputs": [],
   "source": [
    "from keras import models, layers\n",
    "\n",
    "\"\"\"\n",
    "Input   : (10000,) \n",
    "    Layer 1 : (10000 => 64) | relu\n",
    "    Layer 2 : (64    => 64) | relu\n",
    "    Layer 3 : (64    => 46) | softmax\n",
    "Result  : (1,)\n",
    "\"\"\"\n",
    "\n",
    "model = models.Sequential()\n",
    "\n",
    "model.add(layers.Dense(64, activation='relu', input_shape=(10000,))) # \n",
    "model.add(layers.Dense(64, activation='relu'))\n",
    "model.add(layers.Dense(46, activation='softmax'))\n",
    "\n",
    "model.compile(\n",
    "    optimizer='rmsprop',\n",
    "    loss='categorical_crossentropy',\n",
    "    metrics=['accuracy']\n",
    ")"
   ]
  },
  {
   "cell_type": "markdown",
   "metadata": {},
   "source": [
    "### Train the model"
   ]
  },
  {
   "cell_type": "code",
   "execution_count": 9,
   "metadata": {},
   "outputs": [],
   "source": [
    "x_val = x_train[:1000]\n",
    "partial_x_train = x_train[1000:]\n",
    "\n",
    "y_val = y_train[:1000]\n",
    "partial_y_train = y_train[1000:]"
   ]
  },
  {
   "cell_type": "code",
   "execution_count": 10,
   "metadata": {},
   "outputs": [
    {
     "name": "stdout",
     "output_type": "stream",
     "text": [
      "Train on 7982 samples, validate on 1000 samples\n",
      "Epoch 1/20\n",
      " - 1s - loss: 2.5278 - acc: 0.4945 - val_loss: 1.7195 - val_acc: 0.6100\n",
      "Epoch 2/20\n",
      " - 1s - loss: 1.4473 - acc: 0.6877 - val_loss: 1.3495 - val_acc: 0.7050\n",
      "Epoch 3/20\n",
      " - 1s - loss: 1.0991 - acc: 0.7633 - val_loss: 1.1733 - val_acc: 0.7400\n",
      "Epoch 4/20\n",
      " - 1s - loss: 0.8726 - acc: 0.8162 - val_loss: 1.0792 - val_acc: 0.7580\n",
      "Epoch 5/20\n",
      " - 1s - loss: 0.7051 - acc: 0.8485 - val_loss: 0.9853 - val_acc: 0.7830\n",
      "Epoch 6/20\n",
      " - 1s - loss: 0.5671 - acc: 0.8804 - val_loss: 0.9394 - val_acc: 0.8020\n",
      "Epoch 7/20\n",
      " - 1s - loss: 0.4590 - acc: 0.9059 - val_loss: 0.9074 - val_acc: 0.8070\n",
      "Epoch 8/20\n",
      " - 1s - loss: 0.3700 - acc: 0.9235 - val_loss: 0.9338 - val_acc: 0.7950\n",
      "Epoch 9/20\n",
      " - 1s - loss: 0.3034 - acc: 0.9307 - val_loss: 0.8900 - val_acc: 0.8070\n",
      "Epoch 10/20\n",
      " - 1s - loss: 0.2543 - acc: 0.9416 - val_loss: 0.9052 - val_acc: 0.8140\n",
      "Epoch 11/20\n",
      " - 1s - loss: 0.2185 - acc: 0.9471 - val_loss: 0.9158 - val_acc: 0.8110\n",
      "Epoch 12/20\n",
      " - 1s - loss: 0.1876 - acc: 0.9505 - val_loss: 0.9086 - val_acc: 0.8190\n",
      "Epoch 13/20\n",
      " - 1s - loss: 0.1702 - acc: 0.9523 - val_loss: 0.9356 - val_acc: 0.8090\n",
      "Epoch 14/20\n",
      " - 1s - loss: 0.1535 - acc: 0.9559 - val_loss: 0.9627 - val_acc: 0.8070\n",
      "Epoch 15/20\n",
      " - 1s - loss: 0.1388 - acc: 0.9559 - val_loss: 0.9709 - val_acc: 0.8150\n",
      "Epoch 16/20\n",
      " - 1s - loss: 0.1313 - acc: 0.9559 - val_loss: 1.0199 - val_acc: 0.8080\n",
      "Epoch 17/20\n",
      " - 1s - loss: 0.1220 - acc: 0.9580 - val_loss: 1.0211 - val_acc: 0.7990\n",
      "Epoch 18/20\n",
      " - 1s - loss: 0.1200 - acc: 0.9575 - val_loss: 1.0414 - val_acc: 0.8050\n",
      "Epoch 19/20\n",
      " - 1s - loss: 0.1140 - acc: 0.9590 - val_loss: 1.0981 - val_acc: 0.7970\n",
      "Epoch 20/20\n",
      " - 1s - loss: 0.1112 - acc: 0.9597 - val_loss: 1.0721 - val_acc: 0.8010\n"
     ]
    }
   ],
   "source": [
    "history = model.fit(\n",
    "    partial_x_train,\n",
    "    partial_y_train,\n",
    "    epochs=20,\n",
    "    batch_size=512,\n",
    "    validation_data=(x_val, y_val),\n",
    "    verbose=2\n",
    ")"
   ]
  },
  {
   "cell_type": "markdown",
   "metadata": {},
   "source": [
    "### Visualize the result"
   ]
  },
  {
   "cell_type": "code",
   "execution_count": 11,
   "metadata": {},
   "outputs": [
    {
     "data": {
      "image/png": "[encoded data removed]",
      "text/plain": [
       "<Figure size 432x288 with 1 Axes>"
      ]
     },
     "metadata": {},
     "output_type": "display_data"
    }
   ],
   "source": [
    "import matplotlib.pyplot as plt\n",
    "%matplotlib inline\n",
    "\n",
    "history_dict = history.history\n",
    "loss_values = history_dict['loss']\n",
    "val_loss_values = history_dict['val_loss']\n",
    "\n",
    "epochs = range(1, len(loss_values) + 1)\n",
    "\n",
    "plt.plot(epochs, loss_values, 'bo', label='Training Loss')\n",
    "plt.plot(epochs, val_loss_values, 'b', label='Validation Loss')\n",
    "plt.title('Training and Validation Loss')\n",
    "plt.xlabel('Epochs')\n",
    "plt.ylabel('Loss')\n",
    "plt.legend()\n",
    "\n",
    "plt.show()"
   ]
  },
  {
   "cell_type": "code",
   "execution_count": 12,
   "metadata": {},
   "outputs": [
    {
     "data": {
      "image/png": "[encoded data removed]",
      "text/plain": [
       "<Figure size 432x288 with 1 Axes>"
      ]
     },
     "metadata": {},
     "output_type": "display_data"
    }
   ],
   "source": [
    "plt.clf()\n",
    "\n",
    "acc_values = history_dict['acc']\n",
    "val_acc_values = history_dict['val_acc']\n",
    "\n",
    "\n",
    "plt.plot(epochs, acc_values, 'bo', label='Training Accuracy')\n",
    "plt.plot(epochs, val_acc_values, 'b', label='Validation Accuracy')\n",
    "plt.title('Training and Validation Accuracy')\n",
    "plt.xlabel('Epochs')\n",
    "plt.ylabel('Loss')\n",
    "plt.legend()\n",
    "\n",
    "plt.show()"
   ]
  },
  {
   "cell_type": "markdown",
   "metadata": {},
   "source": [
    "### Make predictions"
   ]
  },
  {
   "cell_type": "code",
   "execution_count": 13,
   "metadata": {},
   "outputs": [
    {
     "data": {
      "text/plain": [
       "array([[8.3655954e-07, 7.0798831e-07, 5.7973595e-09, ..., 2.4794655e-09,\n",
       "        1.4266101e-09, 1.0204256e-09],\n",
       "       [3.0282629e-04, 2.0221302e-03, 4.5757574e-07, ..., 1.4828804e-08,\n",
       "        1.1340394e-09, 1.6373335e-05],\n",
       "       [2.0392552e-02, 8.7892371e-01, 4.6702372e-04, ..., 4.0780042e-06,\n",
       "        2.5123088e-06, 3.1347834e-05],\n",
       "       ...,\n",
       "       [2.0419476e-07, 1.2929418e-06, 5.3669041e-08, ..., 1.5303605e-09,\n",
       "        1.1191046e-08, 1.4395943e-09],\n",
       "       [2.1501251e-03, 1.2385241e-01, 3.1118633e-04, ..., 2.9034401e-05,\n",
       "        1.3526537e-06, 2.3465786e-06],\n",
       "       [5.2866366e-05, 6.7626923e-01, 2.4123050e-02, ..., 1.9079977e-07,\n",
       "        1.6782502e-09, 1.2878844e-06]], dtype=float32)"
      ]
     },
     "execution_count": 13,
     "metadata": {},
     "output_type": "execute_result"
    }
   ],
   "source": [
    "model.predict(x_test)"
   ]
  }
 ],
 "metadata": {
  "kernelspec": {
   "display_name": "Python 3",
   "language": "python",
   "name": "python3"
  },
  "language_info": {
   "codemirror_mode": {
    "name": "ipython",
    "version": 3
   },
   "file_extension": ".py",
   "mimetype": "text/x-python",
   "name": "python",
   "nbconvert_exporter": "python",
   "pygments_lexer": "ipython3",
   "version": "3.6.7"
  }
 },
 "nbformat": 4,
 "nbformat_minor": 2
}

{
 "cells": [
  {
   "cell_type": "markdown",
   "metadata": {},
   "source": [
    "# Binary Classification"
   ]
  },
  {
   "cell_type": "markdown",
   "metadata": {},
   "source": [
    "### Import data"
   ]
  },
  {
   "cell_type": "code",
   "execution_count": 1,
   "metadata": {},
   "outputs": [
    {
     "name": "stderr",
     "output_type": "stream",
     "text": [
      "Using TensorFlow backend.\n"
     ]
    }
   ],
   "source": [
    "from keras.datasets import imdb\n",
    "\n",
    "(train_data, train_labels), (test_data, test_labels) = imdb.load_data(num_words=10000) # Keep the top 10,000 most common words."
   ]
  },
  {
   "cell_type": "code",
   "execution_count": 2,
   "metadata": {},
   "outputs": [
    {
     "name": "stdout",
     "output_type": "stream",
     "text": [
      "7th comment (encoded):\n",
      "[1, 6740, 365, 1234, 5, 1156, 354, 11, 14, 5327, 6638, 7, 1016, 2, 5940, 356, 44, 4, 1349, 500, 746, 5, 200, 4, 4132, 11, 2, 9363, 1117, 1831, 7485, 5, 4831, 26, 6, 2, 4183, 17, 369, 37, 215, 1345, 143, 2, 5, 1838, 8, 1974, 15, 36, 119, 257, 85, 52, 486, 9, 6, 2, 8564, 63, 271, 6, 196, 96, 949, 4121, 4, 2, 7, 4, 2212, 2436, 819, 63, 47, 77, 7175, 180, 6, 227, 11, 94, 2494, 2, 13, 423, 4, 168, 7, 4, 22, 5, 89, 665, 71, 270, 56, 5, 13, 197, 12, 161, 5390, 99, 76, 23, 2, 7, 419, 665, 40, 91, 85, 108, 7, 4, 2084, 5, 4773, 81, 55, 52, 1901]\n",
      "\n",
      "7th comment (decoded):\n",
      "? lavish production values and solid performances in this straightforward adaption of jane ? satirical classic about the marriage game within and between the classes in ? 18th century england northam and paltrow are a ? mixture as friends who must pass through ? and lies to discover that they love each other good humor is a ? virtue which goes a long way towards explaining the ? of the aged source material which has been toned down a bit in its harsh ? i liked the look of the film and how shots were set up and i thought it didn't rely too much on ? of head shots like most other films of the 80s and 90s do very good results\n"
     ]
    }
   ],
   "source": [
    "## Take a look at our data\n",
    "\n",
    "# Print an encoded comment\n",
    "print(\"7th comment (encoded):\", train_data[6], sep='\\n', end='\\n\\n') \n",
    "\n",
    "# Print a decoded comment\n",
    "word_index = imdb.get_word_index() \n",
    "reverse_word_index = dict([(v, k) for (k, v) in word_index.items()])\n",
    "decoded_review = ' '.join([reverse_word_index.get(i-3, '?') for i in train_data[6]]) # Remark 1\n",
    "print(\"7th comment (decoded):\", decoded_review, sep='\\n')\n",
    "\n",
    "\n",
    "# Remark 1: Indices are offset by 3 because 0, 1, and 2 are reserved indices for \"padding\", \"start of sequence\", and \"unknown\".\n",
    "# - The first `?` is translated from a 1, the start token; \n",
    "# - The `?` between `jane` and `satirical` corresponds to a 2, an unknown word (not one of the most 10,000 frequently occurred words)."
   ]
  },
  {
   "cell_type": "markdown",
   "metadata": {},
   "source": [
    "### Prepare the data"
   ]
  },
  {
   "cell_type": "code",
   "execution_count": 3,
   "metadata": {},
   "outputs": [
    {
     "name": "stdout",
     "output_type": "stream",
     "text": [
      "7th comment (one-hot encoded):  [0. 1. 1. ... 0. 0. 0.]\n"
     ]
    }
   ],
   "source": [
    "import numpy as np\n",
    "\n",
    "def onehot_encode(seq, dim=10000):\n",
    "    results = np.zeros((len(seq), dim))\n",
    "    for i, seq in enumerate(seq):\n",
    "        results[i, seq] = 1\n",
    "    return results\n",
    "\n",
    "x_train = onehot_encode(train_data)\n",
    "x_test = onehot_encode(test_data)\n",
    "\n",
    "y_train = np.asarray(train_labels).astype('float32')\n",
    "y_test = np.asarray(test_labels).astype('float32')\n",
    "\n",
    "print(\"7th comment (one-hot encoded): \", x_train[6])"
   ]
  },
  {
   "cell_type": "code",
   "execution_count": 4,
   "metadata": {},
   "outputs": [],
   "source": [
    "partial_x_train = x_train[10000:]\n",
    "x_validation = x_train[:10000]\n",
    "\n",
    "partial_y_train = y_train[10000:]\n",
    "y_validation = y_train[:10000]"
   ]
  },
  {
   "cell_type": "markdown",
   "metadata": {},
   "source": [
    "### Construct the model"
   ]
  },
  {
   "cell_type": "code",
   "execution_count": 5,
   "metadata": {},
   "outputs": [],
   "source": [
    "from keras import models, layers\n",
    "\n",
    "\"\"\"\n",
    "Input   : (10000,) \n",
    "    Layer 1 : (10000 => 64) | relu\n",
    "    Layer 2 : (64    => 32) | relu\n",
    "    Layer 3 : (32    => 16) | relu\n",
    "    Layer 4 : (32    => 1 ) | sigmoid\n",
    "Result  : (1,)\n",
    "\"\"\"\n",
    "\n",
    "model = models.Sequential()\n",
    "\n",
    "model.add(layers.Dense(64, activation='relu', input_shape=(10000,))) # \n",
    "model.add(layers.Dense(32, activation='relu'))\n",
    "model.add(layers.Dense(16, activation='relu'))\n",
    "model.add(layers.Dense(1,  activation='sigmoid'))"
   ]
  },
  {
   "cell_type": "markdown",
   "metadata": {},
   "source": [
    "### Configure the model"
   ]
  },
  {
   "cell_type": "code",
   "execution_count": 6,
   "metadata": {},
   "outputs": [],
   "source": [
    "from keras import losses, optimizers, metrics\n",
    "\n",
    "model.compile(\n",
    "    optimizer=optimizers.RMSprop(lr=0.001),\n",
    "    loss=losses.binary_crossentropy,\n",
    "    metrics=[metrics.binary_accuracy]\n",
    ")"
   ]
  },
  {
   "cell_type": "markdown",
   "metadata": {},
   "source": [
    "### Training the model"
   ]
  },
  {
   "cell_type": "code",
   "execution_count": 7,
   "metadata": {},
   "outputs": [
    {
     "name": "stdout",
     "output_type": "stream",
     "text": [
      "Train on 15000 samples, validate on 10000 samples\n",
      "Epoch 1/20\n",
      " - 4s - loss: 0.5117 - binary_accuracy: 0.7599 - val_loss: 0.3512 - val_binary_accuracy: 0.8663\n",
      "Epoch 2/20\n",
      " - 3s - loss: 0.2818 - binary_accuracy: 0.8965 - val_loss: 0.2890 - val_binary_accuracy: 0.8845\n",
      "Epoch 3/20\n",
      " - 3s - loss: 0.1937 - binary_accuracy: 0.9321 - val_loss: 0.2779 - val_binary_accuracy: 0.8882\n",
      "Epoch 4/20\n",
      " - 3s - loss: 0.1555 - binary_accuracy: 0.9424 - val_loss: 0.2902 - val_binary_accuracy: 0.8855\n",
      "Epoch 5/20\n",
      " - 3s - loss: 0.1089 - binary_accuracy: 0.9629 - val_loss: 0.4134 - val_binary_accuracy: 0.8578\n",
      "Epoch 6/20\n",
      " - 3s - loss: 0.0892 - binary_accuracy: 0.9721 - val_loss: 0.3518 - val_binary_accuracy: 0.8819\n",
      "Epoch 7/20\n",
      " - 3s - loss: 0.0751 - binary_accuracy: 0.9771 - val_loss: 0.3786 - val_binary_accuracy: 0.8813\n",
      "Epoch 8/20\n",
      " - 3s - loss: 0.0535 - binary_accuracy: 0.9841 - val_loss: 0.4041 - val_binary_accuracy: 0.8818\n",
      "Epoch 9/20\n",
      " - 3s - loss: 0.0149 - binary_accuracy: 0.9979 - val_loss: 0.4741 - val_binary_accuracy: 0.8772\n",
      "Epoch 10/20\n",
      " - 3s - loss: 0.0509 - binary_accuracy: 0.9871 - val_loss: 0.4962 - val_binary_accuracy: 0.8786\n",
      "Epoch 11/20\n",
      " - 3s - loss: 0.0221 - binary_accuracy: 0.9952 - val_loss: 0.6962 - val_binary_accuracy: 0.8542\n",
      "Epoch 12/20\n",
      " - 3s - loss: 0.0053 - binary_accuracy: 0.9993 - val_loss: 0.5688 - val_binary_accuracy: 0.8767\n",
      "Epoch 13/20\n",
      " - 3s - loss: 0.0023 - binary_accuracy: 0.9998 - val_loss: 0.6328 - val_binary_accuracy: 0.8749\n",
      "Epoch 14/20\n",
      " - 3s - loss: 0.0511 - binary_accuracy: 0.9887 - val_loss: 0.6849 - val_binary_accuracy: 0.8686\n",
      "Epoch 15/20\n",
      " - 3s - loss: 0.0011 - binary_accuracy: 0.9999 - val_loss: 0.6939 - val_binary_accuracy: 0.8714\n",
      "Epoch 16/20\n",
      " - 3s - loss: 6.5688e-04 - binary_accuracy: 0.9999 - val_loss: 0.7395 - val_binary_accuracy: 0.8713\n",
      "Epoch 17/20\n",
      " - 3s - loss: 3.6870e-04 - binary_accuracy: 0.9999 - val_loss: 0.8184 - val_binary_accuracy: 0.8708\n",
      "Epoch 18/20\n",
      " - 3s - loss: 0.0688 - binary_accuracy: 0.9903 - val_loss: 0.8720 - val_binary_accuracy: 0.8701\n",
      "Epoch 19/20\n",
      " - 3s - loss: 1.0650e-04 - binary_accuracy: 1.0000 - val_loss: 0.8748 - val_binary_accuracy: 0.8713\n",
      "Epoch 20/20\n",
      " - 3s - loss: 8.0322e-05 - binary_accuracy: 1.0000 - val_loss: 0.8894 - val_binary_accuracy: 0.8700\n"
     ]
    }
   ],
   "source": [
    "history = model.fit(\n",
    "    partial_x_train,\n",
    "    partial_y_train,\n",
    "    epochs=20,\n",
    "    batch_size=512,\n",
    "    validation_data=(x_validation, y_validation),\n",
    "    verbose=2\n",
    ")                   "
   ]
  },
  {
   "cell_type": "markdown",
   "metadata": {},
   "source": [
    "### Look at history"
   ]
  },
  {
   "cell_type": "code",
   "execution_count": 8,
   "metadata": {},
   "outputs": [
    {
     "data": {
      "image/png": "[encoded data removed]",
      "text/plain": [
       "<Figure size 432x288 with 1 Axes>"
      ]
     },
     "metadata": {},
     "output_type": "display_data"
    }
   ],
   "source": [
    "import matplotlib.pyplot as plt\n",
    "%matplotlib inline\n",
    "\n",
    "history_dict = history.history\n",
    "loss_values = history_dict['loss']\n",
    "val_loss_values = history_dict['val_loss']\n",
    "\n",
    "epochs = range(1, len(loss_values) + 1)\n",
    "\n",
    "plt.plot(epochs, loss_values, 'bo', label='Training Loss')\n",
    "plt.plot(epochs, val_loss_values, 'b', label='Validation Loss')\n",
    "plt.title('Training and Validation Loss')\n",
    "plt.xlabel('Epochs')\n",
    "plt.ylabel('Loss')\n",
    "plt.legend()\n",
    "\n",
    "plt.show()"
   ]
  },
  {
   "cell_type": "code",
   "execution_count": 9,
   "metadata": {},
   "outputs": [
    {
     "data": {
      "image/png": "[encoded data removed]",
      "text/plain": [
       "<Figure size 432x288 with 1 Axes>"
      ]
     },
     "metadata": {},
     "output_type": "display_data"
    }
   ],
   "source": [
    "plt.clf()\n",
    "\n",
    "acc_values = history_dict['binary_accuracy']\n",
    "val_acc_values = history_dict['val_binary_accuracy']\n",
    "\n",
    "\n",
    "plt.plot(epochs, acc_values, 'bo', label='Training Accuracy')\n",
    "plt.plot(epochs, val_acc_values, 'b', label='Validation Accuracy')\n",
    "plt.title('Training and Validation Accuracy')\n",
    "plt.xlabel('Epochs')\n",
    "plt.ylabel('Loss')\n",
    "plt.legend()\n",
    "\n",
    "plt.show()"
   ]
  },
  {
   "cell_type": "markdown",
   "metadata": {},
   "source": [
    "### Make predictions"
   ]
  },
  {
   "cell_type": "code",
   "execution_count": 10,
   "metadata": {},
   "outputs": [
    {
     "data": {
      "text/plain": [
       "array([[6.0207280e-05],\n",
       "       [1.0000000e+00],\n",
       "       [9.8579490e-01],\n",
       "       ...,\n",
       "       [2.2637632e-04],\n",
       "       [5.1956082e-05],\n",
       "       [9.5202541e-01]], dtype=float32)"
      ]
     },
     "execution_count": 10,
     "metadata": {},
     "output_type": "execute_result"
    }
   ],
   "source": [
    "model.predict(x_test)"
   ]
  }
 ],
 "metadata": {
  "kernelspec": {
   "display_name": "Python 3",
   "language": "python",
   "name": "python3"
  },
  "language_info": {
   "codemirror_mode": {
    "name": "ipython",
    "version": 3
   },
   "file_extension": ".py",
   "mimetype": "text/x-python",
   "name": "python",
   "nbconvert_exporter": "python",
   "pygments_lexer": "ipython3",
   "version": "3.6.7"
  }
 },
 "nbformat": 4,
 "nbformat_minor": 2
}

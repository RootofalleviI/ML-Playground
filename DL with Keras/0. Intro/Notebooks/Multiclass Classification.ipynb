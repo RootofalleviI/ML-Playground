{
 "cells": [
  {
   "cell_type": "markdown",
   "metadata": {},
   "source": [
    "# Multiclass Classification"
   ]
  },
  {
   "cell_type": "markdown",
   "metadata": {},
   "source": [
    "### Import data"
   ]
  },
  {
   "cell_type": "code",
   "execution_count": 1,
   "metadata": {},
   "outputs": [
    {
     "name": "stderr",
     "output_type": "stream",
     "text": [
      "Using TensorFlow backend.\n"
     ]
    }
   ],
   "source": [
    "from keras.datasets import reuters\n",
    "\n",
    "(train_data, train_labels), (test_data, test_labels) = reuters.load_data(num_words=10000)"
   ]
  },
  {
   "cell_type": "code",
   "execution_count": 2,
   "metadata": {},
   "outputs": [
    {
     "name": "stdout",
     "output_type": "stream",
     "text": [
      "Length of train data: 8982\n",
      "Length of test data: 2246\n"
     ]
    }
   ],
   "source": [
    "print(\"Length of train data:\", len(train_data))\n",
    "print(\"Length of test data:\", len(test_data))"
   ]
  },
  {
   "cell_type": "code",
   "execution_count": 3,
   "metadata": {},
   "outputs": [
    {
     "name": "stdout",
     "output_type": "stream",
     "text": [
      "11th newswire (encoded):\n",
      "[1, 245, 273, 207, 156, 53, 74, 160, 26, 14, 46, 296, 26, 39, 74, 2979, 3554, 14, 46, 4689, 4329, 86, 61, 3499, 4795, 14, 61, 451, 4329, 17, 12]\n",
      "\n",
      "11th newswire (decoded):\n",
      "? period ended december 31 shr profit 11 cts vs loss 24 cts net profit 224 271 vs loss 511 349 revs 7 258 688 vs 7 200 349 reuter 3\n"
     ]
    }
   ],
   "source": [
    "## Take a look at our data\n",
    "\n",
    "# Print an encoded comment\n",
    "print(\"11th newswire (encoded):\", train_data[10], sep='\\n', end='\\n\\n') \n",
    "\n",
    "# Print a decoded comment\n",
    "word_index = reuters.get_word_index() \n",
    "reverse_word_index = dict([(v, k) for (k, v) in word_index.items()])\n",
    "decoded_newswire = ' '.join([reverse_word_index.get(i-3, '?') for i in train_data[10]]) # Remark 1\n",
    "print(\"11th newswire (decoded):\", decoded_newswire, sep='\\n')\n",
    "\n",
    "\n",
    "# Remark 1: Indices are offset by 3 because 0, 1, and 2 are reserved indices for \"padding\", \"start of sequence\", and \"unknown\".\n",
    "# - The first `?` is translated from a 1, the start token; \n",
    "# - The `?` between `jane` and `satirical` corresponds to a 2, an unknown word (not one of the most 10,000 frequently occurred words)."
   ]
  },
  {
   "cell_type": "markdown",
   "metadata": {},
   "source": [
    "### Preparing the data"
   ]
  },
  {
   "cell_type": "code",
   "execution_count": 4,
   "metadata": {},
   "outputs": [],
   "source": [
    "import numpy as np\n",
    "\n",
    "def onehot_encode(seq, dim=10000):\n",
    "    results = np.zeros((len(seq), dim))\n",
    "    for i, seq in enumerate(seq):\n",
    "        results[i, seq] = 1\n",
    "    return results\n",
    "\n",
    "x_train = onehot_encode(train_data)\n",
    "x_test = onehot_encode(test_data)"
   ]
  },
  {
   "cell_type": "code",
   "execution_count": 5,
   "metadata": {},
   "outputs": [],
   "source": [
    "def onehot_label(labels, dim=46):\n",
    "    results = np.zeros((len(labels), dim))\n",
    "    for i, label in enumerate(labels):\n",
    "        results[i, label] = 1\n",
    "    return results\n",
    "\n",
    "y_train = onehot_label(train_labels)\n",
    "y_test = onehot_label(test_labels)"
   ]
  },
  {
   "cell_type": "code",
   "execution_count": 6,
   "metadata": {},
   "outputs": [],
   "source": [
    "# As a remark, Keras has a built-in `to_categorical` function:\n",
    "\n",
    "# from keras.utils.np_utils import to_categorical\n",
    "# y_train = to_categorical(train_labels)\n",
    "# y_test = to_categorical(test_labels)"
   ]
  },
  {
   "cell_type": "code",
   "execution_count": 7,
   "metadata": {},
   "outputs": [],
   "source": [
    "# There is another way to encode the labels -- cast them as an integer tensor.\n",
    "\n",
    "# y_train = np.array(train_labels)\n",
    "# y_test = np.array(test_labels)\n",
    "\n",
    "# The difference is instead of categorical_crossentropy, we would use sparse_categorical_crossentropy,\n",
    "# which is basically the same thing but with a different interface.\n",
    "\n",
    "# model.compile(\n",
    "#     optimizer='rmsprop',\n",
    "#     loss='sparse_categorical_crossentropy',\n",
    "#     metrics=['accuracy']\n",
    "# )"
   ]
  },
  {
   "cell_type": "markdown",
   "metadata": {},
   "source": [
    "### Construct the model"
   ]
  },
  {
   "cell_type": "code",
   "execution_count": 8,
   "metadata": {},
   "outputs": [],
   "source": [
    "from keras import models, layers\n",
    "\n",
    "\"\"\"\n",
    "Input   : (10000,) \n",
    "    Layer 1 : (10000 => 64) | relu\n",
    "    Layer 2 : (64    => 64) | relu\n",
    "    Layer 3 : (64    => 46) | softmax\n",
    "Result  : (1,)\n",
    "\"\"\"\n",
    "\n",
    "model = models.Sequential()\n",
    "\n",
    "model.add(layers.Dense(64, activation='relu', input_shape=(10000,))) # \n",
    "model.add(layers.Dense(64, activation='relu'))\n",
    "model.add(layers.Dense(46, activation='softmax'))\n",
    "\n",
    "model.compile(\n",
    "    optimizer='rmsprop',\n",
    "    loss='categorical_crossentropy',\n",
    "    metrics=['accuracy']\n",
    ")"
   ]
  },
  {
   "cell_type": "markdown",
   "metadata": {},
   "source": [
    "### Train the model"
   ]
  },
  {
   "cell_type": "code",
   "execution_count": 9,
   "metadata": {},
   "outputs": [],
   "source": [
    "x_val = x_train[:1000]\n",
    "partial_x_train = x_train[1000:]\n",
    "\n",
    "y_val = y_train[:1000]\n",
    "partial_y_train = y_train[1000:]"
   ]
  },
  {
   "cell_type": "code",
   "execution_count": 10,
   "metadata": {},
   "outputs": [
    {
     "name": "stdout",
     "output_type": "stream",
     "text": [
      "Train on 7982 samples, validate on 1000 samples\n",
      "Epoch 1/20\n",
      " - 2s - loss: 2.5322 - acc: 0.4955 - val_loss: 1.7208 - val_acc: 0.6120\n",
      "Epoch 2/20\n",
      " - 1s - loss: 1.4452 - acc: 0.6879 - val_loss: 1.3459 - val_acc: 0.7060\n",
      "Epoch 3/20\n",
      " - 1s - loss: 1.0953 - acc: 0.7653 - val_loss: 1.1708 - val_acc: 0.7430\n",
      "Epoch 4/20\n",
      " - 1s - loss: 0.8697 - acc: 0.8161 - val_loss: 1.0796 - val_acc: 0.7590\n",
      "Epoch 5/20\n",
      " - 1s - loss: 0.7033 - acc: 0.8474 - val_loss: 0.9849 - val_acc: 0.7830\n",
      "Epoch 6/20\n",
      " - 1s - loss: 0.5666 - acc: 0.8799 - val_loss: 0.9416 - val_acc: 0.8040\n",
      "Epoch 7/20\n",
      " - 1s - loss: 0.4583 - acc: 0.9048 - val_loss: 0.9075 - val_acc: 0.8010\n",
      "Epoch 8/20\n",
      " - 1s - loss: 0.3695 - acc: 0.9227 - val_loss: 0.9354 - val_acc: 0.7900\n",
      "Epoch 9/20\n",
      " - 1s - loss: 0.3032 - acc: 0.9308 - val_loss: 0.8907 - val_acc: 0.8090\n",
      "Epoch 10/20\n",
      " - 1s - loss: 0.2539 - acc: 0.9416 - val_loss: 0.9059 - val_acc: 0.8110\n",
      "Epoch 11/20\n",
      " - 1s - loss: 0.2187 - acc: 0.9466 - val_loss: 0.9190 - val_acc: 0.8120\n",
      "Epoch 12/20\n",
      " - 1s - loss: 0.1877 - acc: 0.9504 - val_loss: 0.9050 - val_acc: 0.8140\n",
      "Epoch 13/20\n",
      " - 1s - loss: 0.1702 - acc: 0.9525 - val_loss: 0.9326 - val_acc: 0.8090\n",
      "Epoch 14/20\n",
      " - 1s - loss: 0.1537 - acc: 0.9553 - val_loss: 0.9680 - val_acc: 0.8090\n",
      "Epoch 15/20\n",
      " - 1s - loss: 0.1393 - acc: 0.9557 - val_loss: 0.9687 - val_acc: 0.8150\n",
      "Epoch 16/20\n",
      " - 1s - loss: 0.1317 - acc: 0.9560 - val_loss: 1.0198 - val_acc: 0.8050\n",
      "Epoch 17/20\n",
      " - 1s - loss: 0.1222 - acc: 0.9579 - val_loss: 1.0291 - val_acc: 0.7950\n",
      "Epoch 18/20\n",
      " - 1s - loss: 0.1200 - acc: 0.9575 - val_loss: 1.0434 - val_acc: 0.8060\n",
      "Epoch 19/20\n",
      " - 1s - loss: 0.1136 - acc: 0.9594 - val_loss: 1.0979 - val_acc: 0.7980\n",
      "Epoch 20/20\n",
      " - 1s - loss: 0.1115 - acc: 0.9593 - val_loss: 1.0718 - val_acc: 0.8020\n"
     ]
    }
   ],
   "source": [
    "history = model.fit(\n",
    "    partial_x_train,\n",
    "    partial_y_train,\n",
    "    epochs=20,\n",
    "    batch_size=512,\n",
    "    validation_data=(x_val, y_val),\n",
    "    verbose=2\n",
    ")"
   ]
  },
  {
   "cell_type": "markdown",
   "metadata": {},
   "source": [
    "### Visualize the result"
   ]
  },
  {
   "cell_type": "code",
   "execution_count": 11,
   "metadata": {},
   "outputs": [
    {
     "data": {
      "image/png": "[encoded data removed]",
      "text/plain": [
       "<Figure size 432x288 with 1 Axes>"
      ]
     },
     "metadata": {},
     "output_type": "display_data"
    }
   ],
   "source": [
    "import matplotlib.pyplot as plt\n",
    "%matplotlib inline\n",
    "\n",
    "history_dict = history.history\n",
    "loss_values = history_dict['loss']\n",
    "val_loss_values = history_dict['val_loss']\n",
    "\n",
    "epochs = range(1, len(loss_values) + 1)\n",
    "\n",
    "plt.plot(epochs, loss_values, 'bo', label='Training Loss')\n",
    "plt.plot(epochs, val_loss_values, 'b', label='Validation Loss')\n",
    "plt.title('Training and Validation Loss')\n",
    "plt.xlabel('Epochs')\n",
    "plt.ylabel('Loss')\n",
    "plt.legend()\n",
    "\n",
    "plt.show()"
   ]
  },
  {
   "cell_type": "code",
   "execution_count": 12,
   "metadata": {},
   "outputs": [
    {
     "data": {
      "image/png": "[encoded data removed]",
      "text/plain": [
       "<Figure size 432x288 with 1 Axes>"
      ]
     },
     "metadata": {},
     "output_type": "display_data"
    }
   ],
   "source": [
    "plt.clf()\n",
    "\n",
    "acc_values = history_dict['acc']\n",
    "val_acc_values = history_dict['val_acc']\n",
    "\n",
    "\n",
    "plt.plot(epochs, acc_values, 'bo', label='Training Accuracy')\n",
    "plt.plot(epochs, val_acc_values, 'b', label='Validation Accuracy')\n",
    "plt.title('Training and Validation Accuracy')\n",
    "plt.xlabel('Epochs')\n",
    "plt.ylabel('Loss')\n",
    "plt.legend()\n",
    "\n",
    "plt.show()"
   ]
  },
  {
   "cell_type": "markdown",
   "metadata": {},
   "source": [
    "### Make predictions"
   ]
  },
  {
   "cell_type": "code",
   "execution_count": 13,
   "metadata": {},
   "outputs": [
    {
     "data": {
      "text/plain": [
       "array([[9.9316424e-07, 8.1163427e-07, 6.2383338e-09, ..., 3.5295398e-09,\n",
       "        9.2329766e-10, 7.2091061e-10],\n",
       "       [6.0484943e-04, 7.2021629e-03, 1.0811546e-06, ..., 2.1641977e-08,\n",
       "        2.9440286e-09, 1.3876562e-05],\n",
       "       [1.8025754e-02, 8.9359778e-01, 5.1821070e-04, ..., 7.9983220e-06,\n",
       "        2.7950518e-06, 3.2748114e-05],\n",
       "       ...,\n",
       "       [2.6147438e-07, 1.2033041e-06, 6.4066427e-08, ..., 2.5754656e-09,\n",
       "        1.2672969e-08, 1.3376104e-09],\n",
       "       [2.6473692e-03, 1.4295767e-01, 3.6669633e-04, ..., 3.5683152e-05,\n",
       "        1.4238781e-06, 2.2964355e-06],\n",
       "       [5.7424870e-05, 7.2784001e-01, 2.0899089e-02, ..., 2.2410036e-07,\n",
       "        2.1033033e-09, 1.2342776e-06]], dtype=float32)"
      ]
     },
     "execution_count": 13,
     "metadata": {},
     "output_type": "execute_result"
    }
   ],
   "source": [
    "model.predict(x_test)"
   ]
  }
 ],
 "metadata": {
  "kernelspec": {
   "display_name": "Python 3",
   "language": "python",
   "name": "python3"
  },
  "language_info": {
   "codemirror_mode": {
    "name": "ipython",
    "version": 3
   },
   "file_extension": ".py",
   "mimetype": "text/x-python",
   "name": "python",
   "nbconvert_exporter": "python",
   "pygments_lexer": "ipython3",
   "version": "3.6.7"
  }
 },
 "nbformat": 4,
 "nbformat_minor": 2
}
